{
 "cells": [
  {
   "cell_type": "code",
   "execution_count": 13,
   "outputs": [],
   "source": [
    "from clusters_generator import clusters_generator\n",
    "from health_news_parser import *\n",
    "from jlt import jlt\n",
    "from jlt.jlt import *\n",
    "from kmeans_model import *\n",
    "from pandas_template import inject_into_dataframe\n",
    "from pca_wrapper import pca_wrapper\n",
    "from performance_categorizer import *\n",
    "from sklearn.decomposition import PCA\n",
    "from cluster_data_gen_settings import *\n",
    "import pathlib"
   ],
   "metadata": {
    "collapsed": false,
    "ExecuteTime": {
     "end_time": "2023-07-05T07:21:05.471758Z",
     "start_time": "2023-07-05T07:21:05.467861Z"
    }
   }
  },
  {
   "cell_type": "code",
   "execution_count": 14,
   "outputs": [
    {
     "name": "stdout",
     "output_type": "stream",
     "text": [
      "[(0.05, 0.05), (0.05, 0.1), (0.1, 0.05), (0.1, 0.1), (0.5, 0.05), (0.5, 0.1), (0.9, 0.05), (0.9, 0.1)]\n"
     ]
    }
   ],
   "source": [
    "num_test_each = 1\n",
    "path = \"data/health+news+in+twitter/Health-Tweets/\"\n",
    "num_news = 2\n",
    "\"\"\" DIM REDUC SETTINGS \"\"\"\n",
    "eps = [0.05, 0.1, 0.5, 0.9]\n",
    "des = [0.05, 0.1]\n",
    "data = load_health_news(num_news, path)\n",
    "settings = [num_news]\n",
    "output_path = f\"output/news/{num_news}\"\n",
    "\n",
    "\"\"\" FUNCS \"\"\"\n",
    "\n",
    "print([(ep, de) for ep in eps for de in des])"
   ],
   "metadata": {
    "collapsed": false,
    "ExecuteTime": {
     "end_time": "2023-07-05T07:21:05.813908Z",
     "start_time": "2023-07-05T07:21:05.472382Z"
    }
   }
  },
  {
   "cell_type": "code",
   "execution_count": 15,
   "outputs": [
    {
     "name": "stdout",
     "output_type": "stream",
     "text": [
      "[jlt_ese(name='extremely sparse JL transform', params={'ep': 0.05, 'de': 0.05}), jlt_ese(name='extremely sparse JL transform', params={'ep': 0.05, 'de': 0.1}), jlt_ese(name='extremely sparse JL transform', params={'ep': 0.1, 'de': 0.05}), jlt_ese(name='extremely sparse JL transform', params={'ep': 0.1, 'de': 0.1}), jlt_ese(name='extremely sparse JL transform', params={'ep': 0.5, 'de': 0.05}), jlt_ese(name='extremely sparse JL transform', params={'ep': 0.5, 'de': 0.1}), jlt_ese(name='extremely sparse JL transform', params={'ep': 0.9, 'de': 0.05}), jlt_ese(name='extremely sparse JL transform', params={'ep': 0.9, 'de': 0.1})]\n"
     ]
    }
   ],
   "source": [
    "ese_jlt = [jlt_ese(\"extremely sparse JL transform\", ep, de, {\"ep\": ep, \"de\": de}) for ep in eps for de in des]\n",
    "random_jlt = [jlt_r(\"sparse JL transform\", ep, de, {\"ep\": ep, \"de\": de}) for ep in eps for de in des]\n",
    "n_jlt = [jlt(\"JL transform\", ep, de, {\"ep\": ep, \"de\": de}) for ep in eps for de in des]\n",
    "pca = [pca_wrapper(\"PCA\", lambda _: _,  {})]\n",
    "blank = [dim_reduc_function(\"Nothing\", lambda x: x, {})]\n",
    "funcs = ese_jlt + random_jlt + n_jlt + pca + blank\n",
    "num_test_funcs = [num_test_each for i in range(len(ese_jlt) + len(random_jlt) + len(n_jlt))] + [num_test_each] + [num_test_each]\n",
    "\n",
    "print(ese_jlt)"
   ],
   "metadata": {
    "collapsed": false,
    "ExecuteTime": {
     "end_time": "2023-07-05T07:21:05.818111Z",
     "start_time": "2023-07-05T07:21:05.815754Z"
    }
   }
  },
  {
   "cell_type": "code",
   "execution_count": 16,
   "outputs": [
    {
     "name": "stdout",
     "output_type": "stream",
     "text": [
      "========= Settings = 2 ==========\n",
      "========= Test No = 0 ==========\n",
      "[jlt_ese(name='extremely sparse JL transform', params={'ep': 0.05, 'de': 0.05}), jlt_ese(name='extremely sparse JL transform', params={'ep': 0.05, 'de': 0.1}), jlt_ese(name='extremely sparse JL transform', params={'ep': 0.1, 'de': 0.05}), jlt_ese(name='extremely sparse JL transform', params={'ep': 0.1, 'de': 0.1}), jlt_ese(name='extremely sparse JL transform', params={'ep': 0.5, 'de': 0.05}), jlt_ese(name='extremely sparse JL transform', params={'ep': 0.5, 'de': 0.1}), jlt_ese(name='extremely sparse JL transform', params={'ep': 0.9, 'de': 0.05}), jlt_ese(name='extremely sparse JL transform', params={'ep': 0.9, 'de': 0.1}), jlt_r(name='sparse JL transform', params={'ep': 0.05, 'de': 0.05}), jlt_r(name='sparse JL transform', params={'ep': 0.05, 'de': 0.1}), jlt_r(name='sparse JL transform', params={'ep': 0.1, 'de': 0.05}), jlt_r(name='sparse JL transform', params={'ep': 0.1, 'de': 0.1}), jlt_r(name='sparse JL transform', params={'ep': 0.5, 'de': 0.05}), jlt_r(name='sparse JL transform', params={'ep': 0.5, 'de': 0.1}), jlt_r(name='sparse JL transform', params={'ep': 0.9, 'de': 0.05}), jlt_r(name='sparse JL transform', params={'ep': 0.9, 'de': 0.1}), jlt(name='JL transform', params={'ep': 0.05, 'de': 0.05}), jlt(name='JL transform', params={'ep': 0.05, 'de': 0.1}), jlt(name='JL transform', params={'ep': 0.1, 'de': 0.05}), jlt(name='JL transform', params={'ep': 0.1, 'de': 0.1}), jlt(name='JL transform', params={'ep': 0.5, 'de': 0.05}), jlt(name='JL transform', params={'ep': 0.5, 'de': 0.1}), jlt(name='JL transform', params={'ep': 0.9, 'de': 0.05}), jlt(name='JL transform', params={'ep': 0.9, 'de': 0.1}), pca_wrapper(name='PCA', params={}), dim_reduc_function(name='Nothing', params={})]\n"
     ]
    },
    {
     "name": "stderr",
     "output_type": "stream",
     "text": [
      "/Users/bhumrapeesoonjun/anaconda3/envs/data-sci-proj/lib/python3.8/site-packages/sklearn/cluster/_kmeans.py:870: FutureWarning: The default value of `n_init` will change from 3 to 'auto' in 1.4. Set the value of `n_init` explicitly to suppress the warning\n",
      "  warnings.warn(\n",
      "/Users/bhumrapeesoonjun/anaconda3/envs/data-sci-proj/lib/python3.8/site-packages/sklearn/cluster/_kmeans.py:870: FutureWarning: The default value of `n_init` will change from 3 to 'auto' in 1.4. Set the value of `n_init` explicitly to suppress the warning\n",
      "  warnings.warn(\n",
      "/Users/bhumrapeesoonjun/anaconda3/envs/data-sci-proj/lib/python3.8/site-packages/sklearn/cluster/_kmeans.py:870: FutureWarning: The default value of `n_init` will change from 3 to 'auto' in 1.4. Set the value of `n_init` explicitly to suppress the warning\n",
      "  warnings.warn(\n",
      "/Users/bhumrapeesoonjun/anaconda3/envs/data-sci-proj/lib/python3.8/site-packages/sklearn/cluster/_kmeans.py:870: FutureWarning: The default value of `n_init` will change from 3 to 'auto' in 1.4. Set the value of `n_init` explicitly to suppress the warning\n",
      "  warnings.warn(\n",
      "/Users/bhumrapeesoonjun/anaconda3/envs/data-sci-proj/lib/python3.8/site-packages/sklearn/cluster/_kmeans.py:870: FutureWarning: The default value of `n_init` will change from 3 to 'auto' in 1.4. Set the value of `n_init` explicitly to suppress the warning\n",
      "  warnings.warn(\n",
      "/Users/bhumrapeesoonjun/anaconda3/envs/data-sci-proj/lib/python3.8/site-packages/sklearn/cluster/_kmeans.py:870: FutureWarning: The default value of `n_init` will change from 3 to 'auto' in 1.4. Set the value of `n_init` explicitly to suppress the warning\n",
      "  warnings.warn(\n",
      "/Users/bhumrapeesoonjun/anaconda3/envs/data-sci-proj/lib/python3.8/site-packages/sklearn/cluster/_kmeans.py:870: FutureWarning: The default value of `n_init` will change from 3 to 'auto' in 1.4. Set the value of `n_init` explicitly to suppress the warning\n",
      "  warnings.warn(\n",
      "/Users/bhumrapeesoonjun/anaconda3/envs/data-sci-proj/lib/python3.8/site-packages/sklearn/cluster/_kmeans.py:870: FutureWarning: The default value of `n_init` will change from 3 to 'auto' in 1.4. Set the value of `n_init` explicitly to suppress the warning\n",
      "  warnings.warn(\n",
      "/Users/bhumrapeesoonjun/anaconda3/envs/data-sci-proj/lib/python3.8/site-packages/sklearn/cluster/_kmeans.py:870: FutureWarning: The default value of `n_init` will change from 3 to 'auto' in 1.4. Set the value of `n_init` explicitly to suppress the warning\n",
      "  warnings.warn(\n",
      "/Users/bhumrapeesoonjun/anaconda3/envs/data-sci-proj/lib/python3.8/site-packages/sklearn/cluster/_kmeans.py:870: FutureWarning: The default value of `n_init` will change from 3 to 'auto' in 1.4. Set the value of `n_init` explicitly to suppress the warning\n",
      "  warnings.warn(\n",
      "/Users/bhumrapeesoonjun/anaconda3/envs/data-sci-proj/lib/python3.8/site-packages/sklearn/cluster/_kmeans.py:870: FutureWarning: The default value of `n_init` will change from 3 to 'auto' in 1.4. Set the value of `n_init` explicitly to suppress the warning\n",
      "  warnings.warn(\n",
      "/Users/bhumrapeesoonjun/anaconda3/envs/data-sci-proj/lib/python3.8/site-packages/sklearn/cluster/_kmeans.py:870: FutureWarning: The default value of `n_init` will change from 3 to 'auto' in 1.4. Set the value of `n_init` explicitly to suppress the warning\n",
      "  warnings.warn(\n",
      "/Users/bhumrapeesoonjun/anaconda3/envs/data-sci-proj/lib/python3.8/site-packages/sklearn/cluster/_kmeans.py:870: FutureWarning: The default value of `n_init` will change from 3 to 'auto' in 1.4. Set the value of `n_init` explicitly to suppress the warning\n",
      "  warnings.warn(\n",
      "/Users/bhumrapeesoonjun/anaconda3/envs/data-sci-proj/lib/python3.8/site-packages/sklearn/cluster/_kmeans.py:870: FutureWarning: The default value of `n_init` will change from 3 to 'auto' in 1.4. Set the value of `n_init` explicitly to suppress the warning\n",
      "  warnings.warn(\n",
      "/Users/bhumrapeesoonjun/anaconda3/envs/data-sci-proj/lib/python3.8/site-packages/sklearn/cluster/_kmeans.py:870: FutureWarning: The default value of `n_init` will change from 3 to 'auto' in 1.4. Set the value of `n_init` explicitly to suppress the warning\n",
      "  warnings.warn(\n",
      "/Users/bhumrapeesoonjun/anaconda3/envs/data-sci-proj/lib/python3.8/site-packages/sklearn/cluster/_kmeans.py:870: FutureWarning: The default value of `n_init` will change from 3 to 'auto' in 1.4. Set the value of `n_init` explicitly to suppress the warning\n",
      "  warnings.warn(\n",
      "/Users/bhumrapeesoonjun/anaconda3/envs/data-sci-proj/lib/python3.8/site-packages/sklearn/cluster/_kmeans.py:870: FutureWarning: The default value of `n_init` will change from 3 to 'auto' in 1.4. Set the value of `n_init` explicitly to suppress the warning\n",
      "  warnings.warn(\n",
      "/Users/bhumrapeesoonjun/anaconda3/envs/data-sci-proj/lib/python3.8/site-packages/sklearn/cluster/_kmeans.py:870: FutureWarning: The default value of `n_init` will change from 3 to 'auto' in 1.4. Set the value of `n_init` explicitly to suppress the warning\n",
      "  warnings.warn(\n",
      "/Users/bhumrapeesoonjun/anaconda3/envs/data-sci-proj/lib/python3.8/site-packages/sklearn/cluster/_kmeans.py:870: FutureWarning: The default value of `n_init` will change from 3 to 'auto' in 1.4. Set the value of `n_init` explicitly to suppress the warning\n",
      "  warnings.warn(\n",
      "/Users/bhumrapeesoonjun/anaconda3/envs/data-sci-proj/lib/python3.8/site-packages/sklearn/cluster/_kmeans.py:870: FutureWarning: The default value of `n_init` will change from 3 to 'auto' in 1.4. Set the value of `n_init` explicitly to suppress the warning\n",
      "  warnings.warn(\n",
      "/Users/bhumrapeesoonjun/anaconda3/envs/data-sci-proj/lib/python3.8/site-packages/sklearn/cluster/_kmeans.py:870: FutureWarning: The default value of `n_init` will change from 3 to 'auto' in 1.4. Set the value of `n_init` explicitly to suppress the warning\n",
      "  warnings.warn(\n",
      "/Users/bhumrapeesoonjun/anaconda3/envs/data-sci-proj/lib/python3.8/site-packages/sklearn/cluster/_kmeans.py:870: FutureWarning: The default value of `n_init` will change from 3 to 'auto' in 1.4. Set the value of `n_init` explicitly to suppress the warning\n",
      "  warnings.warn(\n",
      "/Users/bhumrapeesoonjun/anaconda3/envs/data-sci-proj/lib/python3.8/site-packages/sklearn/cluster/_kmeans.py:870: FutureWarning: The default value of `n_init` will change from 3 to 'auto' in 1.4. Set the value of `n_init` explicitly to suppress the warning\n",
      "  warnings.warn(\n",
      "/Users/bhumrapeesoonjun/anaconda3/envs/data-sci-proj/lib/python3.8/site-packages/sklearn/cluster/_kmeans.py:870: FutureWarning: The default value of `n_init` will change from 3 to 'auto' in 1.4. Set the value of `n_init` explicitly to suppress the warning\n",
      "  warnings.warn(\n",
      "/Users/bhumrapeesoonjun/anaconda3/envs/data-sci-proj/lib/python3.8/site-packages/sklearn/cluster/_kmeans.py:870: FutureWarning: The default value of `n_init` will change from 3 to 'auto' in 1.4. Set the value of `n_init` explicitly to suppress the warning\n",
      "  warnings.warn(\n",
      "/Users/bhumrapeesoonjun/anaconda3/envs/data-sci-proj/lib/python3.8/site-packages/sklearn/cluster/_kmeans.py:870: FutureWarning: The default value of `n_init` will change from 3 to 'auto' in 1.4. Set the value of `n_init` explicitly to suppress the warning\n",
      "  warnings.warn(\n"
     ]
    }
   ],
   "source": [
    "\n",
    "\n",
    "\"\"\" DATA \"\"\"\n",
    "\n",
    "for setting in settings:\n",
    "    print(f\"========= Settings = {setting} ==========\")\n",
    "    for i in range(1):\n",
    "        print(f\"========= Test No = {i} ==========\")\n",
    "        km = kmeans_model()\n",
    "        tester = performance_cat()\n",
    "        results = tester.performance_test_all(data, km, funcs, num_test_funcs)\n",
    "        dataframe = inject_into_dataframe(results)\n",
    "        dataframe.to_csv(output_path, index=False, mode='a', header= not pathlib.Path(output_path).exists())"
   ],
   "metadata": {
    "collapsed": false,
    "ExecuteTime": {
     "end_time": "2023-07-05T07:22:18.044180Z",
     "start_time": "2023-07-05T07:21:05.969852Z"
    }
   }
  },
  {
   "cell_type": "code",
   "execution_count": 16,
   "outputs": [],
   "source": [],
   "metadata": {
    "collapsed": false,
    "ExecuteTime": {
     "end_time": "2023-07-05T07:22:18.048742Z",
     "start_time": "2023-07-05T07:22:18.044891Z"
    }
   }
  },
  {
   "cell_type": "code",
   "execution_count": 16,
   "outputs": [],
   "source": [],
   "metadata": {
    "collapsed": false,
    "ExecuteTime": {
     "end_time": "2023-07-05T07:22:18.049049Z",
     "start_time": "2023-07-05T07:22:18.046667Z"
    }
   }
  }
 ],
 "metadata": {
  "kernelspec": {
   "display_name": "Python 3",
   "language": "python",
   "name": "python3"
  },
  "language_info": {
   "codemirror_mode": {
    "name": "ipython",
    "version": 2
   },
   "file_extension": ".py",
   "mimetype": "text/x-python",
   "name": "python",
   "nbconvert_exporter": "python",
   "pygments_lexer": "ipython2",
   "version": "2.7.6"
  }
 },
 "nbformat": 4,
 "nbformat_minor": 0
}
