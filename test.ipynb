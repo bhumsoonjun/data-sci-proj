{
 "cells": [
  {
   "cell_type": "code",
   "execution_count": 1,
   "metadata": {
    "collapsed": true,
    "pycharm": {
     "name": "#%%\n"
    }
   },
   "outputs": [],
   "source": [
    "from clusters_generator import clusters_generator\n",
    "from health_news_parser import *\n",
    "from jlt import jlt\n",
    "from jlt.jlt import *\n",
    "from kmeans_model import *\n",
    "from pandas_template import inject_into_dataframe\n",
    "from pca_wrapper import pca_wrapper\n",
    "from performance_categorizer import *\n",
    "from sklearn.decomposition import PCA\n",
    "from cluster_data_gen_settings import *\n",
    "import pathlib"
   ]
  },
  {
   "cell_type": "code",
   "execution_count": 2,
   "outputs": [
    {
     "name": "stdout",
     "output_type": "stream",
     "text": [
      "===== Creating Mask =====\n",
      "===== Creating Training Cluster =====\n",
      "===== Creating Test Cluster =====\n"
     ]
    }
   ],
   "source": [
    "n = 50000\n",
    "d = 10000\n",
    "a = -1000\n",
    "b = 1000\n",
    "std = 1000\n",
    "num_clusters = 10\n",
    "num_test_per_clus = 10\n",
    "sparsity = 0\n",
    "gen = clusters_generator(n, d, a, b, std, num_clusters, num_test_per_clus, sparsity)\n",
    "data = gen.generate()"
   ],
   "metadata": {
    "collapsed": false,
    "pycharm": {
     "name": "#%%\n"
    }
   }
  },
  {
   "cell_type": "code",
   "execution_count": 7,
   "outputs": [],
   "source": [
    "de = 0.05\n",
    "ep = 0.05"
   ],
   "metadata": {
    "collapsed": false,
    "pycharm": {
     "name": "#%%\n"
    }
   }
  },
  {
   "cell_type": "code",
   "execution_count": 8,
   "outputs": [
    {
     "data": {
      "text/plain": "array([[ 1265.41929483,  2491.18078141,  5699.53956079, ...,\n        -1495.16714739,  1284.11286863,  -745.66143979],\n       [ 1588.44950046,  -464.75795829,  1773.61430589, ...,\n         2303.34971319,  -782.76645816,  -952.89796167],\n       [ 1719.48653484,  2695.57983121,  1918.46353984, ...,\n          731.42232034,   604.20072651,   288.69301889],\n       ...,\n       [-2305.84341765,  3473.67101359,  1844.98645248, ...,\n         2886.0928388 ,  2576.83092758, -2596.46891103],\n       [-3971.67715529,  3188.83825395, -2115.03338676, ...,\n        -5271.00459278,  -509.28930065, -1526.69183562],\n       [-4809.93470933,  -374.40284127, -2123.5052887 , ...,\n         3273.51903685,   967.01998798, -2213.39924948]])"
     },
     "execution_count": 8,
     "metadata": {},
     "output_type": "execute_result"
    }
   ],
   "source": [
    "jlt_ese(data.testing_data, de, ep)"
   ],
   "metadata": {
    "collapsed": false,
    "pycharm": {
     "name": "#%%\n"
    }
   }
  },
  {
   "cell_type": "code",
   "execution_count": 9,
   "outputs": [
    {
     "data": {
      "text/plain": "array([[  119.38633094,  -188.30580219, -1577.34864382, ...,\n         -438.77373232,   871.69252319,  1857.32860111],\n       [ -396.74056232,  1490.60980094, -1336.90669125, ...,\n          -68.1364238 ,  -239.63559787,   565.80824984],\n       [  865.16625429,  -122.36187269,  -829.67112792, ...,\n         -571.01524829,   654.71679398,   127.14600244],\n       ...,\n       [   50.62540037,   330.29172478,    56.8406025 , ...,\n           24.74462235,   667.81864315,   -52.33410446],\n       [ -539.20360212,   263.81838895,   128.40790413, ...,\n        -1659.30758257,  1506.26219013,   605.97403147],\n       [ -981.86440461,   129.82426388,  -757.48809421, ...,\n         -137.1983253 ,   754.3113676 ,  1152.00838793]])"
     },
     "execution_count": 9,
     "metadata": {},
     "output_type": "execute_result"
    }
   ],
   "source": [
    "jlt_r(data.testing_data, de, ep)"
   ],
   "metadata": {
    "collapsed": false,
    "pycharm": {
     "name": "#%%\n"
    }
   }
  },
  {
   "cell_type": "code",
   "execution_count": null,
   "outputs": [],
   "source": [],
   "metadata": {
    "collapsed": false,
    "pycharm": {
     "name": "#%%\n"
    }
   }
  }
 ],
 "metadata": {
  "kernelspec": {
   "display_name": "Python 3",
   "language": "python",
   "name": "python3"
  },
  "language_info": {
   "codemirror_mode": {
    "name": "ipython",
    "version": 2
   },
   "file_extension": ".py",
   "mimetype": "text/x-python",
   "name": "python",
   "nbconvert_exporter": "python",
   "pygments_lexer": "ipython2",
   "version": "2.7.6"
  }
 },
 "nbformat": 4,
 "nbformat_minor": 0
}