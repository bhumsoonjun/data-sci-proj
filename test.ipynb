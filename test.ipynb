{
 "cells": [
  {
   "cell_type": "code",
   "execution_count": 3,
   "metadata": {
    "collapsed": true,
    "pycharm": {
     "name": "#%%\n"
    }
   },
   "outputs": [],
   "source": [
    "from clusters_generator import clusters_generator\n",
    "from health_news_parser import *\n",
    "from jlt import jlt\n",
    "from jlt.jlt import *\n",
    "from kmeans_model import *\n",
    "from pandas_template import inject_into_dataframe\n",
    "from pca_wrapper import pca_wrapper\n",
    "from performance_categorizer import *\n",
    "from sklearn.decomposition import PCA\n",
    "from cluster_data_gen_settings import *\n",
    "import pathlib"
   ]
  },
  {
   "cell_type": "code",
   "execution_count": 4,
   "outputs": [
    {
     "name": "stdout",
     "output_type": "stream",
     "text": [
      "===== Creating Mask =====\n",
      "===== Creating Training Cluster =====\n",
      "===== Creating Test Cluster =====\n"
     ]
    }
   ],
   "source": [
    "n = 10000\n",
    "d = 10000\n",
    "a = -1000\n",
    "b = 1000\n",
    "std = 1000\n",
    "num_clusters = 10\n",
    "num_test_per_clus = 10\n",
    "sparsity = 0\n",
    "gen = clusters_generator(n, d, a, b, std, num_clusters, num_test_per_clus, sparsity)\n",
    "data = gen.generate()"
   ],
   "metadata": {
    "collapsed": false,
    "pycharm": {
     "name": "#%%\n"
    }
   }
  },
  {
   "cell_type": "code",
   "execution_count": 5,
   "outputs": [],
   "source": [
    "de = 0.05\n",
    "ep = 0.05"
   ],
   "metadata": {
    "collapsed": false,
    "pycharm": {
     "name": "#%%\n"
    }
   }
  },
  {
   "cell_type": "code",
   "execution_count": 6,
   "outputs": [
    {
     "ename": "TypeError",
     "evalue": "__init__() missing 1 required positional argument: 'params'",
     "output_type": "error",
     "traceback": [
      "\u001B[1;31m---------------------------------------------------------------------------\u001B[0m",
      "\u001B[1;31mTypeError\u001B[0m                                 Traceback (most recent call last)",
      "\u001B[1;32m~\\AppData\\Local\\Temp\\ipykernel_20600\\2490278567.py\u001B[0m in \u001B[0;36m<module>\u001B[1;34m\u001B[0m\n\u001B[1;32m----> 1\u001B[1;33m \u001B[0mjlt_ese\u001B[0m\u001B[1;33m(\u001B[0m\u001B[0mdata\u001B[0m\u001B[1;33m.\u001B[0m\u001B[0mtesting_data\u001B[0m\u001B[1;33m,\u001B[0m \u001B[0mde\u001B[0m\u001B[1;33m,\u001B[0m \u001B[0mep\u001B[0m\u001B[1;33m)\u001B[0m\u001B[1;33m\u001B[0m\u001B[1;33m\u001B[0m\u001B[0m\n\u001B[0m",
      "\u001B[1;31mTypeError\u001B[0m: __init__() missing 1 required positional argument: 'params'"
     ]
    }
   ],
   "source": [
    "jlt_ese(data.testing_data, de, ep)"
   ],
   "metadata": {
    "collapsed": false,
    "pycharm": {
     "name": "#%%\n"
    }
   }
  },
  {
   "cell_type": "code",
   "execution_count": 9,
   "outputs": [
    {
     "data": {
      "text/plain": "array([[  119.38633094,  -188.30580219, -1577.34864382, ...,\n         -438.77373232,   871.69252319,  1857.32860111],\n       [ -396.74056232,  1490.60980094, -1336.90669125, ...,\n          -68.1364238 ,  -239.63559787,   565.80824984],\n       [  865.16625429,  -122.36187269,  -829.67112792, ...,\n         -571.01524829,   654.71679398,   127.14600244],\n       ...,\n       [   50.62540037,   330.29172478,    56.8406025 , ...,\n           24.74462235,   667.81864315,   -52.33410446],\n       [ -539.20360212,   263.81838895,   128.40790413, ...,\n        -1659.30758257,  1506.26219013,   605.97403147],\n       [ -981.86440461,   129.82426388,  -757.48809421, ...,\n         -137.1983253 ,   754.3113676 ,  1152.00838793]])"
     },
     "execution_count": 9,
     "metadata": {},
     "output_type": "execute_result"
    }
   ],
   "source": [
    "jlt_r(data.testing_data, de, ep)"
   ],
   "metadata": {
    "collapsed": false,
    "pycharm": {
     "name": "#%%\n"
    }
   }
  },
  {
   "cell_type": "code",
   "execution_count": null,
   "outputs": [],
   "source": [],
   "metadata": {
    "collapsed": false,
    "pycharm": {
     "name": "#%%\n"
    }
   }
  }
 ],
 "metadata": {
  "kernelspec": {
   "display_name": "Python 3",
   "language": "python",
   "name": "python3"
  },
  "language_info": {
   "codemirror_mode": {
    "name": "ipython",
    "version": 2
   },
   "file_extension": ".py",
   "mimetype": "text/x-python",
   "name": "python",
   "nbconvert_exporter": "python",
   "pygments_lexer": "ipython2",
   "version": "2.7.6"
  }
 },
 "nbformat": 4,
 "nbformat_minor": 0
}