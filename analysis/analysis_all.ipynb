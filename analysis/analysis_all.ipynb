{
 "cells": [
  {
   "cell_type": "code",
   "execution_count": 1,
   "metadata": {
    "collapsed": true,
    "ExecuteTime": {
     "end_time": "2023-07-04T07:23:32.863424Z",
     "start_time": "2023-07-04T07:23:32.458675Z"
    }
   },
   "outputs": [],
   "source": [
    "import numpy as np\n",
    "import pandas as pd\n",
    "from matplotlib import pyplot as plt\n",
    "import os"
   ]
  },
  {
   "cell_type": "code",
   "execution_count": 11,
   "outputs": [],
   "source": [
    "def score(reduc_time, accuracy, train_time, red_w = 200, ac_w = 1, train_w = 20):\n",
    "    return (accuracy ** ac_w)*(red_w/int(reduc_time + 1) + train_w/int(train_time + 1))\n",
    "\n",
    "def analyse(path, reduction_weight, accuracy_weight, training_weight):\n",
    "    df_each = []\n",
    "    for filename in os.listdir(path):\n",
    "        f = os.path.join(path, filename)\n",
    "        if os.path.isfile(f) and \".DS\" not in f:\n",
    "            temp = pd.read_csv(f)\n",
    "            temp = temp[temp.name.apply(lambda x: x != \"name\")]\n",
    "            df_each.append((temp, filename))\n",
    "\n",
    "    included_cols = [\"name\", \"filename\", \"original_shape\", \"transformed_shape\", \"params\", \"reduction_time\", \"accuracy\", \"train_time\", \"score_series\"]\n",
    "\n",
    "    out_df = pd.DataFrame(columns=included_cols)\n",
    "    collected_all_df = pd.DataFrame(columns=included_cols)\n",
    "\n",
    "    for res in df_each:\n",
    "        res_copy = res[0].copy()\n",
    "        res_copy[\"filename\"] = res[1]\n",
    "        score_series = res_copy[res_copy.name != \"Nothing\"][[\"reduction_time\", \"train_time\", \"accuracy\"]].apply(lambda x: score(x[\"reduction_time\"], x[\"accuracy\"], reduction_weight, accuracy_weight, training_weight), axis=1)\n",
    "        res_copy_score = res_copy.copy()\n",
    "        res_copy_score[\"score_series\"] = score_series\n",
    "        out_df = pd.concat([out_df, res_copy_score])\n",
    "        max_ind = res_copy_score.groupby(by=[\"original_shape\"])[\"score_series\"].idxmax()\n",
    "        collected = res_copy_score.iloc[max_ind][[\"name\", \"filename\", \"original_shape\", \"transformed_shape\", \"params\", \"reduction_time\", \"accuracy\", \"train_time\", \"score_series\"]]\n",
    "        collected_all_df = pd.concat([collected_all_df, collected])\n",
    "\n",
    "    all = out_df.groupby(by=\"filename\", group_keys=True).apply(lambda x: x[:])\n",
    "    best = collected_all_df.groupby([\"filename\", \"name\"]).count().sort_values(by=\"original_shape\").groupby(level=0).tail(1).sort_values(by=\"filename\")\n",
    "\n",
    "    return all, best"
   ],
   "metadata": {
    "collapsed": false,
    "ExecuteTime": {
     "end_time": "2023-07-04T07:24:42.558384Z",
     "start_time": "2023-07-04T07:24:42.553918Z"
    }
   }
  },
  {
   "cell_type": "code",
   "execution_count": 12,
   "outputs": [],
   "source": [
    "reduction_weight = 10\n",
    "accuracy_weight = 10\n",
    "training_weight = 10"
   ],
   "metadata": {
    "collapsed": false,
    "ExecuteTime": {
     "end_time": "2023-07-04T07:24:42.908565Z",
     "start_time": "2023-07-04T07:24:42.905988Z"
    }
   }
  },
  {
   "cell_type": "code",
   "execution_count": 14,
   "outputs": [],
   "source": [
    "path = \"../output/kmeans/\"\n",
    "kmeans_all, kmeans_best = analyse(path, reduction_weight, accuracy_weight, training_weight)"
   ],
   "metadata": {
    "collapsed": false,
    "ExecuteTime": {
     "end_time": "2023-07-04T07:25:02.348438Z",
     "start_time": "2023-07-04T07:25:02.180186Z"
    }
   }
  },
  {
   "cell_type": "code",
   "execution_count": 15,
   "outputs": [
    {
     "data": {
      "text/plain": "                                                       original_shape  \\\nfilename                name                                            \n1000_0.33_(-100, 100)   extremely sparse JL transform               5   \n1000_0.33_(-1000, 1000) extremely sparse JL transform               5   \n1000_0.33_(-500, 500)   extremely sparse JL transform               5   \n1000_0.66_(-100, 100)   extremely sparse JL transform               6   \n1000_0.66_(-1000, 1000) extremely sparse JL transform               5   \n1000_0.66_(-500, 500)   extremely sparse JL transform               4   \n1000_0.99_(-100, 100)   extremely sparse JL transform               4   \n1000_0.99_(-1000, 1000) JL transform                                5   \n1000_0.99_(-500, 500)   extremely sparse JL transform               3   \n1000_0_(-100, 100)      PCA                                         3   \n1000_0_(-1000, 1000)    extremely sparse JL transform               5   \n1000_0_(-500, 500)      extremely sparse JL transform               5   \n100_0.33_(-100, 100)    extremely sparse JL transform               5   \n100_0.33_(-1000, 1000)  extremely sparse JL transform               5   \n100_0.33_(-500, 500)    extremely sparse JL transform               5   \n100_0.66_(-100, 100)    extremely sparse JL transform               5   \n100_0.66_(-1000, 1000)  extremely sparse JL transform               5   \n100_0.66_(-500, 500)    extremely sparse JL transform               5   \n100_0.99_(-100, 100)    sparse JL transform                         5   \n100_0.99_(-1000, 1000)  extremely sparse JL transform               5   \n100_0.99_(-500, 500)    extremely sparse JL transform               5   \n100_0_(-100, 100)       extremely sparse JL transform               5   \n100_0_(-1000, 1000)     extremely sparse JL transform               5   \n100_0_(-500, 500)       extremely sparse JL transform               5   \n500_0.33_(-100, 100)    extremely sparse JL transform               6   \n500_0.33_(-1000, 1000)  extremely sparse JL transform               5   \n500_0.33_(-500, 500)    extremely sparse JL transform               5   \n500_0.66_(-100, 100)    extremely sparse JL transform               6   \n500_0.66_(-1000, 1000)  extremely sparse JL transform               5   \n500_0.66_(-500, 500)    extremely sparse JL transform               5   \n500_0.99_(-100, 100)    extremely sparse JL transform               5   \n500_0.99_(-1000, 1000)  sparse JL transform                         4   \n500_0.99_(-500, 500)    sparse JL transform                         5   \n500_0_(-100, 100)       extremely sparse JL transform               5   \n500_0_(-1000, 1000)     extremely sparse JL transform               5   \n500_0_(-500, 500)       extremely sparse JL transform               5   \n\n                                                       transformed_shape  \\\nfilename                name                                               \n1000_0.33_(-100, 100)   extremely sparse JL transform                  5   \n1000_0.33_(-1000, 1000) extremely sparse JL transform                  5   \n1000_0.33_(-500, 500)   extremely sparse JL transform                  5   \n1000_0.66_(-100, 100)   extremely sparse JL transform                  6   \n1000_0.66_(-1000, 1000) extremely sparse JL transform                  5   \n1000_0.66_(-500, 500)   extremely sparse JL transform                  4   \n1000_0.99_(-100, 100)   extremely sparse JL transform                  4   \n1000_0.99_(-1000, 1000) JL transform                                   5   \n1000_0.99_(-500, 500)   extremely sparse JL transform                  3   \n1000_0_(-100, 100)      PCA                                            3   \n1000_0_(-1000, 1000)    extremely sparse JL transform                  5   \n1000_0_(-500, 500)      extremely sparse JL transform                  5   \n100_0.33_(-100, 100)    extremely sparse JL transform                  5   \n100_0.33_(-1000, 1000)  extremely sparse JL transform                  5   \n100_0.33_(-500, 500)    extremely sparse JL transform                  5   \n100_0.66_(-100, 100)    extremely sparse JL transform                  5   \n100_0.66_(-1000, 1000)  extremely sparse JL transform                  5   \n100_0.66_(-500, 500)    extremely sparse JL transform                  5   \n100_0.99_(-100, 100)    sparse JL transform                            5   \n100_0.99_(-1000, 1000)  extremely sparse JL transform                  5   \n100_0.99_(-500, 500)    extremely sparse JL transform                  5   \n100_0_(-100, 100)       extremely sparse JL transform                  5   \n100_0_(-1000, 1000)     extremely sparse JL transform                  5   \n100_0_(-500, 500)       extremely sparse JL transform                  5   \n500_0.33_(-100, 100)    extremely sparse JL transform                  6   \n500_0.33_(-1000, 1000)  extremely sparse JL transform                  5   \n500_0.33_(-500, 500)    extremely sparse JL transform                  5   \n500_0.66_(-100, 100)    extremely sparse JL transform                  6   \n500_0.66_(-1000, 1000)  extremely sparse JL transform                  5   \n500_0.66_(-500, 500)    extremely sparse JL transform                  5   \n500_0.99_(-100, 100)    extremely sparse JL transform                  5   \n500_0.99_(-1000, 1000)  sparse JL transform                            4   \n500_0.99_(-500, 500)    sparse JL transform                            5   \n500_0_(-100, 100)       extremely sparse JL transform                  5   \n500_0_(-1000, 1000)     extremely sparse JL transform                  5   \n500_0_(-500, 500)       extremely sparse JL transform                  5   \n\n                                                       params  reduction_time  \\\nfilename                name                                                    \n1000_0.33_(-100, 100)   extremely sparse JL transform       5               5   \n1000_0.33_(-1000, 1000) extremely sparse JL transform       5               5   \n1000_0.33_(-500, 500)   extremely sparse JL transform       5               5   \n1000_0.66_(-100, 100)   extremely sparse JL transform       6               6   \n1000_0.66_(-1000, 1000) extremely sparse JL transform       5               5   \n1000_0.66_(-500, 500)   extremely sparse JL transform       4               4   \n1000_0.99_(-100, 100)   extremely sparse JL transform       4               4   \n1000_0.99_(-1000, 1000) JL transform                        5               5   \n1000_0.99_(-500, 500)   extremely sparse JL transform       3               3   \n1000_0_(-100, 100)      PCA                                 3               3   \n1000_0_(-1000, 1000)    extremely sparse JL transform       5               5   \n1000_0_(-500, 500)      extremely sparse JL transform       5               5   \n100_0.33_(-100, 100)    extremely sparse JL transform       5               5   \n100_0.33_(-1000, 1000)  extremely sparse JL transform       5               5   \n100_0.33_(-500, 500)    extremely sparse JL transform       5               5   \n100_0.66_(-100, 100)    extremely sparse JL transform       5               5   \n100_0.66_(-1000, 1000)  extremely sparse JL transform       5               5   \n100_0.66_(-500, 500)    extremely sparse JL transform       5               5   \n100_0.99_(-100, 100)    sparse JL transform                 5               5   \n100_0.99_(-1000, 1000)  extremely sparse JL transform       5               5   \n100_0.99_(-500, 500)    extremely sparse JL transform       5               5   \n100_0_(-100, 100)       extremely sparse JL transform       5               5   \n100_0_(-1000, 1000)     extremely sparse JL transform       5               5   \n100_0_(-500, 500)       extremely sparse JL transform       5               5   \n500_0.33_(-100, 100)    extremely sparse JL transform       6               6   \n500_0.33_(-1000, 1000)  extremely sparse JL transform       5               5   \n500_0.33_(-500, 500)    extremely sparse JL transform       5               5   \n500_0.66_(-100, 100)    extremely sparse JL transform       6               6   \n500_0.66_(-1000, 1000)  extremely sparse JL transform       5               5   \n500_0.66_(-500, 500)    extremely sparse JL transform       5               5   \n500_0.99_(-100, 100)    extremely sparse JL transform       5               5   \n500_0.99_(-1000, 1000)  sparse JL transform                 4               4   \n500_0.99_(-500, 500)    sparse JL transform                 5               5   \n500_0_(-100, 100)       extremely sparse JL transform       5               5   \n500_0_(-1000, 1000)     extremely sparse JL transform       5               5   \n500_0_(-500, 500)       extremely sparse JL transform       5               5   \n\n                                                       accuracy  train_time  \\\nfilename                name                                                  \n1000_0.33_(-100, 100)   extremely sparse JL transform         5           5   \n1000_0.33_(-1000, 1000) extremely sparse JL transform         5           5   \n1000_0.33_(-500, 500)   extremely sparse JL transform         5           5   \n1000_0.66_(-100, 100)   extremely sparse JL transform         6           6   \n1000_0.66_(-1000, 1000) extremely sparse JL transform         5           5   \n1000_0.66_(-500, 500)   extremely sparse JL transform         4           4   \n1000_0.99_(-100, 100)   extremely sparse JL transform         4           4   \n1000_0.99_(-1000, 1000) JL transform                          5           5   \n1000_0.99_(-500, 500)   extremely sparse JL transform         3           3   \n1000_0_(-100, 100)      PCA                                   3           3   \n1000_0_(-1000, 1000)    extremely sparse JL transform         5           5   \n1000_0_(-500, 500)      extremely sparse JL transform         5           5   \n100_0.33_(-100, 100)    extremely sparse JL transform         5           5   \n100_0.33_(-1000, 1000)  extremely sparse JL transform         5           5   \n100_0.33_(-500, 500)    extremely sparse JL transform         5           5   \n100_0.66_(-100, 100)    extremely sparse JL transform         5           5   \n100_0.66_(-1000, 1000)  extremely sparse JL transform         5           5   \n100_0.66_(-500, 500)    extremely sparse JL transform         5           5   \n100_0.99_(-100, 100)    sparse JL transform                   5           5   \n100_0.99_(-1000, 1000)  extremely sparse JL transform         5           5   \n100_0.99_(-500, 500)    extremely sparse JL transform         5           5   \n100_0_(-100, 100)       extremely sparse JL transform         5           5   \n100_0_(-1000, 1000)     extremely sparse JL transform         5           5   \n100_0_(-500, 500)       extremely sparse JL transform         5           5   \n500_0.33_(-100, 100)    extremely sparse JL transform         6           6   \n500_0.33_(-1000, 1000)  extremely sparse JL transform         5           5   \n500_0.33_(-500, 500)    extremely sparse JL transform         5           5   \n500_0.66_(-100, 100)    extremely sparse JL transform         6           6   \n500_0.66_(-1000, 1000)  extremely sparse JL transform         5           5   \n500_0.66_(-500, 500)    extremely sparse JL transform         5           5   \n500_0.99_(-100, 100)    extremely sparse JL transform         5           5   \n500_0.99_(-1000, 1000)  sparse JL transform                   4           4   \n500_0.99_(-500, 500)    sparse JL transform                   5           5   \n500_0_(-100, 100)       extremely sparse JL transform         5           5   \n500_0_(-1000, 1000)     extremely sparse JL transform         5           5   \n500_0_(-500, 500)       extremely sparse JL transform         5           5   \n\n                                                       score_series  \nfilename                name                                         \n1000_0.33_(-100, 100)   extremely sparse JL transform             5  \n1000_0.33_(-1000, 1000) extremely sparse JL transform             5  \n1000_0.33_(-500, 500)   extremely sparse JL transform             5  \n1000_0.66_(-100, 100)   extremely sparse JL transform             6  \n1000_0.66_(-1000, 1000) extremely sparse JL transform             5  \n1000_0.66_(-500, 500)   extremely sparse JL transform             4  \n1000_0.99_(-100, 100)   extremely sparse JL transform             4  \n1000_0.99_(-1000, 1000) JL transform                              5  \n1000_0.99_(-500, 500)   extremely sparse JL transform             3  \n1000_0_(-100, 100)      PCA                                       3  \n1000_0_(-1000, 1000)    extremely sparse JL transform             5  \n1000_0_(-500, 500)      extremely sparse JL transform             5  \n100_0.33_(-100, 100)    extremely sparse JL transform             5  \n100_0.33_(-1000, 1000)  extremely sparse JL transform             5  \n100_0.33_(-500, 500)    extremely sparse JL transform             5  \n100_0.66_(-100, 100)    extremely sparse JL transform             5  \n100_0.66_(-1000, 1000)  extremely sparse JL transform             5  \n100_0.66_(-500, 500)    extremely sparse JL transform             5  \n100_0.99_(-100, 100)    sparse JL transform                       5  \n100_0.99_(-1000, 1000)  extremely sparse JL transform             5  \n100_0.99_(-500, 500)    extremely sparse JL transform             5  \n100_0_(-100, 100)       extremely sparse JL transform             5  \n100_0_(-1000, 1000)     extremely sparse JL transform             5  \n100_0_(-500, 500)       extremely sparse JL transform             5  \n500_0.33_(-100, 100)    extremely sparse JL transform             6  \n500_0.33_(-1000, 1000)  extremely sparse JL transform             5  \n500_0.33_(-500, 500)    extremely sparse JL transform             5  \n500_0.66_(-100, 100)    extremely sparse JL transform             6  \n500_0.66_(-1000, 1000)  extremely sparse JL transform             5  \n500_0.66_(-500, 500)    extremely sparse JL transform             5  \n500_0.99_(-100, 100)    extremely sparse JL transform             5  \n500_0.99_(-1000, 1000)  sparse JL transform                       4  \n500_0.99_(-500, 500)    sparse JL transform                       5  \n500_0_(-100, 100)       extremely sparse JL transform             5  \n500_0_(-1000, 1000)     extremely sparse JL transform             5  \n500_0_(-500, 500)       extremely sparse JL transform             5  ",
      "text/html": "<div>\n<style scoped>\n    .dataframe tbody tr th:only-of-type {\n        vertical-align: middle;\n    }\n\n    .dataframe tbody tr th {\n        vertical-align: top;\n    }\n\n    .dataframe thead th {\n        text-align: right;\n    }\n</style>\n<table border=\"1\" class=\"dataframe\">\n  <thead>\n    <tr style=\"text-align: right;\">\n      <th></th>\n      <th></th>\n      <th>original_shape</th>\n      <th>transformed_shape</th>\n      <th>params</th>\n      <th>reduction_time</th>\n      <th>accuracy</th>\n      <th>train_time</th>\n      <th>score_series</th>\n    </tr>\n    <tr>\n      <th>filename</th>\n      <th>name</th>\n      <th></th>\n      <th></th>\n      <th></th>\n      <th></th>\n      <th></th>\n      <th></th>\n      <th></th>\n    </tr>\n  </thead>\n  <tbody>\n    <tr>\n      <th>1000_0.33_(-100, 100)</th>\n      <th>extremely sparse JL transform</th>\n      <td>5</td>\n      <td>5</td>\n      <td>5</td>\n      <td>5</td>\n      <td>5</td>\n      <td>5</td>\n      <td>5</td>\n    </tr>\n    <tr>\n      <th>1000_0.33_(-1000, 1000)</th>\n      <th>extremely sparse JL transform</th>\n      <td>5</td>\n      <td>5</td>\n      <td>5</td>\n      <td>5</td>\n      <td>5</td>\n      <td>5</td>\n      <td>5</td>\n    </tr>\n    <tr>\n      <th>1000_0.33_(-500, 500)</th>\n      <th>extremely sparse JL transform</th>\n      <td>5</td>\n      <td>5</td>\n      <td>5</td>\n      <td>5</td>\n      <td>5</td>\n      <td>5</td>\n      <td>5</td>\n    </tr>\n    <tr>\n      <th>1000_0.66_(-100, 100)</th>\n      <th>extremely sparse JL transform</th>\n      <td>6</td>\n      <td>6</td>\n      <td>6</td>\n      <td>6</td>\n      <td>6</td>\n      <td>6</td>\n      <td>6</td>\n    </tr>\n    <tr>\n      <th>1000_0.66_(-1000, 1000)</th>\n      <th>extremely sparse JL transform</th>\n      <td>5</td>\n      <td>5</td>\n      <td>5</td>\n      <td>5</td>\n      <td>5</td>\n      <td>5</td>\n      <td>5</td>\n    </tr>\n    <tr>\n      <th>1000_0.66_(-500, 500)</th>\n      <th>extremely sparse JL transform</th>\n      <td>4</td>\n      <td>4</td>\n      <td>4</td>\n      <td>4</td>\n      <td>4</td>\n      <td>4</td>\n      <td>4</td>\n    </tr>\n    <tr>\n      <th>1000_0.99_(-100, 100)</th>\n      <th>extremely sparse JL transform</th>\n      <td>4</td>\n      <td>4</td>\n      <td>4</td>\n      <td>4</td>\n      <td>4</td>\n      <td>4</td>\n      <td>4</td>\n    </tr>\n    <tr>\n      <th>1000_0.99_(-1000, 1000)</th>\n      <th>JL transform</th>\n      <td>5</td>\n      <td>5</td>\n      <td>5</td>\n      <td>5</td>\n      <td>5</td>\n      <td>5</td>\n      <td>5</td>\n    </tr>\n    <tr>\n      <th>1000_0.99_(-500, 500)</th>\n      <th>extremely sparse JL transform</th>\n      <td>3</td>\n      <td>3</td>\n      <td>3</td>\n      <td>3</td>\n      <td>3</td>\n      <td>3</td>\n      <td>3</td>\n    </tr>\n    <tr>\n      <th>1000_0_(-100, 100)</th>\n      <th>PCA</th>\n      <td>3</td>\n      <td>3</td>\n      <td>3</td>\n      <td>3</td>\n      <td>3</td>\n      <td>3</td>\n      <td>3</td>\n    </tr>\n    <tr>\n      <th>1000_0_(-1000, 1000)</th>\n      <th>extremely sparse JL transform</th>\n      <td>5</td>\n      <td>5</td>\n      <td>5</td>\n      <td>5</td>\n      <td>5</td>\n      <td>5</td>\n      <td>5</td>\n    </tr>\n    <tr>\n      <th>1000_0_(-500, 500)</th>\n      <th>extremely sparse JL transform</th>\n      <td>5</td>\n      <td>5</td>\n      <td>5</td>\n      <td>5</td>\n      <td>5</td>\n      <td>5</td>\n      <td>5</td>\n    </tr>\n    <tr>\n      <th>100_0.33_(-100, 100)</th>\n      <th>extremely sparse JL transform</th>\n      <td>5</td>\n      <td>5</td>\n      <td>5</td>\n      <td>5</td>\n      <td>5</td>\n      <td>5</td>\n      <td>5</td>\n    </tr>\n    <tr>\n      <th>100_0.33_(-1000, 1000)</th>\n      <th>extremely sparse JL transform</th>\n      <td>5</td>\n      <td>5</td>\n      <td>5</td>\n      <td>5</td>\n      <td>5</td>\n      <td>5</td>\n      <td>5</td>\n    </tr>\n    <tr>\n      <th>100_0.33_(-500, 500)</th>\n      <th>extremely sparse JL transform</th>\n      <td>5</td>\n      <td>5</td>\n      <td>5</td>\n      <td>5</td>\n      <td>5</td>\n      <td>5</td>\n      <td>5</td>\n    </tr>\n    <tr>\n      <th>100_0.66_(-100, 100)</th>\n      <th>extremely sparse JL transform</th>\n      <td>5</td>\n      <td>5</td>\n      <td>5</td>\n      <td>5</td>\n      <td>5</td>\n      <td>5</td>\n      <td>5</td>\n    </tr>\n    <tr>\n      <th>100_0.66_(-1000, 1000)</th>\n      <th>extremely sparse JL transform</th>\n      <td>5</td>\n      <td>5</td>\n      <td>5</td>\n      <td>5</td>\n      <td>5</td>\n      <td>5</td>\n      <td>5</td>\n    </tr>\n    <tr>\n      <th>100_0.66_(-500, 500)</th>\n      <th>extremely sparse JL transform</th>\n      <td>5</td>\n      <td>5</td>\n      <td>5</td>\n      <td>5</td>\n      <td>5</td>\n      <td>5</td>\n      <td>5</td>\n    </tr>\n    <tr>\n      <th>100_0.99_(-100, 100)</th>\n      <th>sparse JL transform</th>\n      <td>5</td>\n      <td>5</td>\n      <td>5</td>\n      <td>5</td>\n      <td>5</td>\n      <td>5</td>\n      <td>5</td>\n    </tr>\n    <tr>\n      <th>100_0.99_(-1000, 1000)</th>\n      <th>extremely sparse JL transform</th>\n      <td>5</td>\n      <td>5</td>\n      <td>5</td>\n      <td>5</td>\n      <td>5</td>\n      <td>5</td>\n      <td>5</td>\n    </tr>\n    <tr>\n      <th>100_0.99_(-500, 500)</th>\n      <th>extremely sparse JL transform</th>\n      <td>5</td>\n      <td>5</td>\n      <td>5</td>\n      <td>5</td>\n      <td>5</td>\n      <td>5</td>\n      <td>5</td>\n    </tr>\n    <tr>\n      <th>100_0_(-100, 100)</th>\n      <th>extremely sparse JL transform</th>\n      <td>5</td>\n      <td>5</td>\n      <td>5</td>\n      <td>5</td>\n      <td>5</td>\n      <td>5</td>\n      <td>5</td>\n    </tr>\n    <tr>\n      <th>100_0_(-1000, 1000)</th>\n      <th>extremely sparse JL transform</th>\n      <td>5</td>\n      <td>5</td>\n      <td>5</td>\n      <td>5</td>\n      <td>5</td>\n      <td>5</td>\n      <td>5</td>\n    </tr>\n    <tr>\n      <th>100_0_(-500, 500)</th>\n      <th>extremely sparse JL transform</th>\n      <td>5</td>\n      <td>5</td>\n      <td>5</td>\n      <td>5</td>\n      <td>5</td>\n      <td>5</td>\n      <td>5</td>\n    </tr>\n    <tr>\n      <th>500_0.33_(-100, 100)</th>\n      <th>extremely sparse JL transform</th>\n      <td>6</td>\n      <td>6</td>\n      <td>6</td>\n      <td>6</td>\n      <td>6</td>\n      <td>6</td>\n      <td>6</td>\n    </tr>\n    <tr>\n      <th>500_0.33_(-1000, 1000)</th>\n      <th>extremely sparse JL transform</th>\n      <td>5</td>\n      <td>5</td>\n      <td>5</td>\n      <td>5</td>\n      <td>5</td>\n      <td>5</td>\n      <td>5</td>\n    </tr>\n    <tr>\n      <th>500_0.33_(-500, 500)</th>\n      <th>extremely sparse JL transform</th>\n      <td>5</td>\n      <td>5</td>\n      <td>5</td>\n      <td>5</td>\n      <td>5</td>\n      <td>5</td>\n      <td>5</td>\n    </tr>\n    <tr>\n      <th>500_0.66_(-100, 100)</th>\n      <th>extremely sparse JL transform</th>\n      <td>6</td>\n      <td>6</td>\n      <td>6</td>\n      <td>6</td>\n      <td>6</td>\n      <td>6</td>\n      <td>6</td>\n    </tr>\n    <tr>\n      <th>500_0.66_(-1000, 1000)</th>\n      <th>extremely sparse JL transform</th>\n      <td>5</td>\n      <td>5</td>\n      <td>5</td>\n      <td>5</td>\n      <td>5</td>\n      <td>5</td>\n      <td>5</td>\n    </tr>\n    <tr>\n      <th>500_0.66_(-500, 500)</th>\n      <th>extremely sparse JL transform</th>\n      <td>5</td>\n      <td>5</td>\n      <td>5</td>\n      <td>5</td>\n      <td>5</td>\n      <td>5</td>\n      <td>5</td>\n    </tr>\n    <tr>\n      <th>500_0.99_(-100, 100)</th>\n      <th>extremely sparse JL transform</th>\n      <td>5</td>\n      <td>5</td>\n      <td>5</td>\n      <td>5</td>\n      <td>5</td>\n      <td>5</td>\n      <td>5</td>\n    </tr>\n    <tr>\n      <th>500_0.99_(-1000, 1000)</th>\n      <th>sparse JL transform</th>\n      <td>4</td>\n      <td>4</td>\n      <td>4</td>\n      <td>4</td>\n      <td>4</td>\n      <td>4</td>\n      <td>4</td>\n    </tr>\n    <tr>\n      <th>500_0.99_(-500, 500)</th>\n      <th>sparse JL transform</th>\n      <td>5</td>\n      <td>5</td>\n      <td>5</td>\n      <td>5</td>\n      <td>5</td>\n      <td>5</td>\n      <td>5</td>\n    </tr>\n    <tr>\n      <th>500_0_(-100, 100)</th>\n      <th>extremely sparse JL transform</th>\n      <td>5</td>\n      <td>5</td>\n      <td>5</td>\n      <td>5</td>\n      <td>5</td>\n      <td>5</td>\n      <td>5</td>\n    </tr>\n    <tr>\n      <th>500_0_(-1000, 1000)</th>\n      <th>extremely sparse JL transform</th>\n      <td>5</td>\n      <td>5</td>\n      <td>5</td>\n      <td>5</td>\n      <td>5</td>\n      <td>5</td>\n      <td>5</td>\n    </tr>\n    <tr>\n      <th>500_0_(-500, 500)</th>\n      <th>extremely sparse JL transform</th>\n      <td>5</td>\n      <td>5</td>\n      <td>5</td>\n      <td>5</td>\n      <td>5</td>\n      <td>5</td>\n      <td>5</td>\n    </tr>\n  </tbody>\n</table>\n</div>"
     },
     "execution_count": 15,
     "metadata": {},
     "output_type": "execute_result"
    }
   ],
   "source": [
    "kmeans_best"
   ],
   "metadata": {
    "collapsed": false,
    "ExecuteTime": {
     "end_time": "2023-07-04T07:25:05.664136Z",
     "start_time": "2023-07-04T07:25:05.656177Z"
    }
   }
  },
  {
   "cell_type": "code",
   "execution_count": 16,
   "outputs": [],
   "source": [
    "path = \"../output/news/\"\n",
    "news_all, news_best = analyse(path, reduction_weight, accuracy_weight, training_weight)"
   ],
   "metadata": {
    "collapsed": false,
    "ExecuteTime": {
     "end_time": "2023-07-04T07:25:49.440435Z",
     "start_time": "2023-07-04T07:25:49.416883Z"
    }
   }
  },
  {
   "cell_type": "code",
   "execution_count": 17,
   "outputs": [
    {
     "data": {
      "text/plain": "                                        original_shape  transformed_shape  \\\nfilename name                                                               \n10       extremely sparse JL transform               1                  1   \n2        extremely sparse JL transform               1                  1   \n3        extremely sparse JL transform               1                  1   \n5        extremely sparse JL transform               1                  1   \n\n                                        params  reduction_time  accuracy  \\\nfilename name                                                              \n10       extremely sparse JL transform       1               1         1   \n2        extremely sparse JL transform       1               1         1   \n3        extremely sparse JL transform       1               1         1   \n5        extremely sparse JL transform       1               1         1   \n\n                                        train_time  score_series  \nfilename name                                                     \n10       extremely sparse JL transform           1             1  \n2        extremely sparse JL transform           1             1  \n3        extremely sparse JL transform           1             1  \n5        extremely sparse JL transform           1             1  ",
      "text/html": "<div>\n<style scoped>\n    .dataframe tbody tr th:only-of-type {\n        vertical-align: middle;\n    }\n\n    .dataframe tbody tr th {\n        vertical-align: top;\n    }\n\n    .dataframe thead th {\n        text-align: right;\n    }\n</style>\n<table border=\"1\" class=\"dataframe\">\n  <thead>\n    <tr style=\"text-align: right;\">\n      <th></th>\n      <th></th>\n      <th>original_shape</th>\n      <th>transformed_shape</th>\n      <th>params</th>\n      <th>reduction_time</th>\n      <th>accuracy</th>\n      <th>train_time</th>\n      <th>score_series</th>\n    </tr>\n    <tr>\n      <th>filename</th>\n      <th>name</th>\n      <th></th>\n      <th></th>\n      <th></th>\n      <th></th>\n      <th></th>\n      <th></th>\n      <th></th>\n    </tr>\n  </thead>\n  <tbody>\n    <tr>\n      <th>10</th>\n      <th>extremely sparse JL transform</th>\n      <td>1</td>\n      <td>1</td>\n      <td>1</td>\n      <td>1</td>\n      <td>1</td>\n      <td>1</td>\n      <td>1</td>\n    </tr>\n    <tr>\n      <th>2</th>\n      <th>extremely sparse JL transform</th>\n      <td>1</td>\n      <td>1</td>\n      <td>1</td>\n      <td>1</td>\n      <td>1</td>\n      <td>1</td>\n      <td>1</td>\n    </tr>\n    <tr>\n      <th>3</th>\n      <th>extremely sparse JL transform</th>\n      <td>1</td>\n      <td>1</td>\n      <td>1</td>\n      <td>1</td>\n      <td>1</td>\n      <td>1</td>\n      <td>1</td>\n    </tr>\n    <tr>\n      <th>5</th>\n      <th>extremely sparse JL transform</th>\n      <td>1</td>\n      <td>1</td>\n      <td>1</td>\n      <td>1</td>\n      <td>1</td>\n      <td>1</td>\n      <td>1</td>\n    </tr>\n  </tbody>\n</table>\n</div>"
     },
     "execution_count": 17,
     "metadata": {},
     "output_type": "execute_result"
    }
   ],
   "source": [
    "news_best"
   ],
   "metadata": {
    "collapsed": false,
    "ExecuteTime": {
     "end_time": "2023-07-04T07:25:52.820746Z",
     "start_time": "2023-07-04T07:25:52.815481Z"
    }
   }
  },
  {
   "cell_type": "code",
   "execution_count": null,
   "outputs": [],
   "source": [
    "d"
   ],
   "metadata": {
    "collapsed": false
   }
  }
 ],
 "metadata": {
  "kernelspec": {
   "display_name": "Python 3",
   "language": "python",
   "name": "python3"
  },
  "language_info": {
   "codemirror_mode": {
    "name": "ipython",
    "version": 2
   },
   "file_extension": ".py",
   "mimetype": "text/x-python",
   "name": "python",
   "nbconvert_exporter": "python",
   "pygments_lexer": "ipython2",
   "version": "2.7.6"
  }
 },
 "nbformat": 4,
 "nbformat_minor": 0
}
