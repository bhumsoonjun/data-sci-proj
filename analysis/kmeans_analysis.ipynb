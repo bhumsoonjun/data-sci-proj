{
 "cells": [
  {
   "cell_type": "code",
   "execution_count": 1,
   "metadata": {
    "collapsed": true,
    "pycharm": {
     "name": "#%%\n"
    },
    "ExecuteTime": {
     "end_time": "2023-06-28T07:16:12.118779Z",
     "start_time": "2023-06-28T07:16:07.982171Z"
    }
   },
   "outputs": [],
   "source": [
    "import numpy as np\n",
    "import pandas as pd\n",
    "from matplotlib import pyplot as plt\n",
    "import os"
   ]
  },
  {
   "cell_type": "code",
   "execution_count": 2,
   "outputs": [],
   "source": [
    "path = \"../output/kmeans/\"\n",
    "df_each = []\n",
    "for filename in os.listdir(path):\n",
    "    f = os.path.join(path, filename)\n",
    "    if os.path.isfile(f):\n",
    "        temp = pd.read_csv(f)\n",
    "        temp = temp[temp.name.apply(lambda x: x != \"name\")]\n",
    "        df_each.append((temp, filename))"
   ],
   "metadata": {
    "collapsed": false,
    "pycharm": {
     "name": "#%%\n"
    },
    "ExecuteTime": {
     "end_time": "2023-06-28T07:16:12.363965Z",
     "start_time": "2023-06-28T07:16:12.173983Z"
    }
   }
  },
  {
   "cell_type": "code",
   "execution_count": 3,
   "outputs": [],
   "source": [
    "def score(reduc_time, accuracy, train_time, red_w = 200, ac_w = 1, train_w = 20):\n",
    "    return (accuracy ** ac_w)*(red_w/int(reduc_time + 1) + train_w/int(train_time + 1))"
   ],
   "metadata": {
    "collapsed": false,
    "pycharm": {
     "name": "#%%\n"
    },
    "ExecuteTime": {
     "end_time": "2023-06-28T07:16:12.403680Z",
     "start_time": "2023-06-28T07:16:12.375066Z"
    }
   }
  },
  {
   "cell_type": "code",
   "execution_count": 4,
   "outputs": [],
   "source": [
    "red_w = 10\n",
    "ac_w = 10\n",
    "train_w = 10\n",
    "included_cols = [\"name\", \"filename\", \"original_shape\", \"transformed_shape\", \"params\", \"reduction_time\", \"accuracy\", \"train_time\", \"score_series\"]"
   ],
   "metadata": {
    "collapsed": false,
    "pycharm": {
     "name": "#%%\n"
    },
    "ExecuteTime": {
     "end_time": "2023-06-28T07:16:12.416878Z",
     "start_time": "2023-06-28T07:16:12.402646Z"
    }
   }
  },
  {
   "cell_type": "code",
   "execution_count": 5,
   "outputs": [],
   "source": [
    "out_df = pd.DataFrame(columns=included_cols)\n",
    "for res in df_each:\n",
    "    res_copy = res[0].copy()\n",
    "    res_copy[\"filename\"] = res[1]\n",
    "    score_series = res_copy[res_copy.name != \"Nothing\"][[\"reduction_time\", \"train_time\", \"accuracy\"]].apply(lambda x: score(x[\"reduction_time\"], x[\"accuracy\"], red_w, ac_w, train_w), axis=1)\n",
    "    res_copy_score = res_copy.copy()\n",
    "    res_copy_score[\"score_series\"] = score_series\n",
    "    max_ind = res_copy_score.groupby(by=[\"original_shape\"])[\"score_series\"].idxmax()\n",
    "    collected = res_copy_score.iloc[max_ind][[\"name\", \"filename\", \"original_shape\", \"transformed_shape\", \"params\", \"reduction_time\", \"accuracy\", \"train_time\", \"score_series\"]]\n",
    "    out_df = pd.concat([out_df, collected])"
   ],
   "metadata": {
    "collapsed": false,
    "pycharm": {
     "name": "#%%\n"
    },
    "ExecuteTime": {
     "end_time": "2023-06-28T07:16:12.675247Z",
     "start_time": "2023-06-28T07:16:12.658947Z"
    }
   }
  },
  {
   "cell_type": "code",
   "execution_count": 10,
   "outputs": [
    {
     "data": {
      "text/plain": "                                                    name  \\\nfilename                                                   \n1000_0.33_(-100, 100) 0    extremely sparse JL transform   \n                      26   extremely sparse JL transform   \n                      68                    JL transform   \n                      78   extremely sparse JL transform   \n                      122                   JL transform   \n...                                                  ...   \n500_0_(-500, 500)     116            sparse JL transform   \n                      143            sparse JL transform   \n                      156  extremely sparse JL transform   \n                      197            sparse JL transform   \n                      231                   JL transform   \n\n                                        filename  original_shape  \\\nfilename                                                           \n1000_0.33_(-100, 100) 0    1000_0.33_(-100, 100)    (1000, 1000)   \n                      26   1000_0.33_(-100, 100)   (1000, 10000)   \n                      68   1000_0.33_(-100, 100)   (1000, 20000)   \n                      78   1000_0.33_(-100, 100)   (10000, 1000)   \n                      122  1000_0.33_(-100, 100)  (10000, 10000)   \n...                                          ...             ...   \n500_0_(-500, 500)     116      500_0_(-500, 500)  (10000, 10000)   \n                      143      500_0_(-500, 500)  (10000, 20000)   \n                      156      500_0_(-500, 500)   (20000, 1000)   \n                      197      500_0_(-500, 500)  (20000, 10000)   \n                      231      500_0_(-500, 500)  (20000, 20000)   \n\n                          transformed_shape                    params  \\\nfilename                                                                \n1000_0.33_(-100, 100) 0        (1110, 2351)  {'ep': 0.05, 'de': 0.05}   \n                      26       (1110, 3135)  {'ep': 0.05, 'de': 0.05}   \n                      68       (1110, 2000)  {'ep': 0.05, 'de': 0.05}   \n                      78      (10110, 2961)  {'ep': 0.05, 'de': 0.05}   \n                      122     (10110, 7189)   {'ep': 0.1, 'de': 0.05}   \n...                                     ...                       ...   \n500_0_(-500, 500)     116      (10110, 287)   {'ep': 0.5, 'de': 0.05}   \n                      143      (10110, 221)    {'ep': 0.5, 'de': 0.1}   \n                      156     (20110, 3151)  {'ep': 0.05, 'de': 0.05}   \n                      197       (20110, 68)    {'ep': 0.9, 'de': 0.1}   \n                      231       (20110, 68)    {'ep': 0.9, 'de': 0.1}   \n\n                           reduction_time  accuracy  train_time  score_series  \nfilename                                                                       \n1000_0.33_(-100, 100) 0          0.016116      0.97    0.638783      8.715012  \n                      26         0.131164      0.99    0.765474     10.688152  \n                      68         2.809123      0.99    0.450133      4.658938  \n                      78         0.375906      0.22    2.095778      0.000003  \n                      122       14.604988      1.00    2.349191      2.484848  \n...                                   ...       ...         ...           ...  \n500_0_(-500, 500)     116        0.879084      1.00    0.275562     11.818182  \n                      143        1.876637      1.00    0.330760      6.818182  \n                      156        0.688828      1.00    2.663622     11.818182  \n                      197        0.917972      0.98    0.267323      9.656315  \n                      231        1.733602      1.00    0.281216      6.818182  \n\n[324 rows x 9 columns]",
      "text/html": "<div>\n<style scoped>\n    .dataframe tbody tr th:only-of-type {\n        vertical-align: middle;\n    }\n\n    .dataframe tbody tr th {\n        vertical-align: top;\n    }\n\n    .dataframe thead th {\n        text-align: right;\n    }\n</style>\n<table border=\"1\" class=\"dataframe\">\n  <thead>\n    <tr style=\"text-align: right;\">\n      <th></th>\n      <th></th>\n      <th>name</th>\n      <th>filename</th>\n      <th>original_shape</th>\n      <th>transformed_shape</th>\n      <th>params</th>\n      <th>reduction_time</th>\n      <th>accuracy</th>\n      <th>train_time</th>\n      <th>score_series</th>\n    </tr>\n    <tr>\n      <th>filename</th>\n      <th></th>\n      <th></th>\n      <th></th>\n      <th></th>\n      <th></th>\n      <th></th>\n      <th></th>\n      <th></th>\n      <th></th>\n      <th></th>\n    </tr>\n  </thead>\n  <tbody>\n    <tr>\n      <th rowspan=\"5\" valign=\"top\">1000_0.33_(-100, 100)</th>\n      <th>0</th>\n      <td>extremely sparse JL transform</td>\n      <td>1000_0.33_(-100, 100)</td>\n      <td>(1000, 1000)</td>\n      <td>(1110, 2351)</td>\n      <td>{'ep': 0.05, 'de': 0.05}</td>\n      <td>0.016116</td>\n      <td>0.97</td>\n      <td>0.638783</td>\n      <td>8.715012</td>\n    </tr>\n    <tr>\n      <th>26</th>\n      <td>extremely sparse JL transform</td>\n      <td>1000_0.33_(-100, 100)</td>\n      <td>(1000, 10000)</td>\n      <td>(1110, 3135)</td>\n      <td>{'ep': 0.05, 'de': 0.05}</td>\n      <td>0.131164</td>\n      <td>0.99</td>\n      <td>0.765474</td>\n      <td>10.688152</td>\n    </tr>\n    <tr>\n      <th>68</th>\n      <td>JL transform</td>\n      <td>1000_0.33_(-100, 100)</td>\n      <td>(1000, 20000)</td>\n      <td>(1110, 2000)</td>\n      <td>{'ep': 0.05, 'de': 0.05}</td>\n      <td>2.809123</td>\n      <td>0.99</td>\n      <td>0.450133</td>\n      <td>4.658938</td>\n    </tr>\n    <tr>\n      <th>78</th>\n      <td>extremely sparse JL transform</td>\n      <td>1000_0.33_(-100, 100)</td>\n      <td>(10000, 1000)</td>\n      <td>(10110, 2961)</td>\n      <td>{'ep': 0.05, 'de': 0.05}</td>\n      <td>0.375906</td>\n      <td>0.22</td>\n      <td>2.095778</td>\n      <td>0.000003</td>\n    </tr>\n    <tr>\n      <th>122</th>\n      <td>JL transform</td>\n      <td>1000_0.33_(-100, 100)</td>\n      <td>(10000, 10000)</td>\n      <td>(10110, 7189)</td>\n      <td>{'ep': 0.1, 'de': 0.05}</td>\n      <td>14.604988</td>\n      <td>1.00</td>\n      <td>2.349191</td>\n      <td>2.484848</td>\n    </tr>\n    <tr>\n      <th>...</th>\n      <th>...</th>\n      <td>...</td>\n      <td>...</td>\n      <td>...</td>\n      <td>...</td>\n      <td>...</td>\n      <td>...</td>\n      <td>...</td>\n      <td>...</td>\n      <td>...</td>\n    </tr>\n    <tr>\n      <th rowspan=\"5\" valign=\"top\">500_0_(-500, 500)</th>\n      <th>116</th>\n      <td>sparse JL transform</td>\n      <td>500_0_(-500, 500)</td>\n      <td>(10000, 10000)</td>\n      <td>(10110, 287)</td>\n      <td>{'ep': 0.5, 'de': 0.05}</td>\n      <td>0.879084</td>\n      <td>1.00</td>\n      <td>0.275562</td>\n      <td>11.818182</td>\n    </tr>\n    <tr>\n      <th>143</th>\n      <td>sparse JL transform</td>\n      <td>500_0_(-500, 500)</td>\n      <td>(10000, 20000)</td>\n      <td>(10110, 221)</td>\n      <td>{'ep': 0.5, 'de': 0.1}</td>\n      <td>1.876637</td>\n      <td>1.00</td>\n      <td>0.330760</td>\n      <td>6.818182</td>\n    </tr>\n    <tr>\n      <th>156</th>\n      <td>extremely sparse JL transform</td>\n      <td>500_0_(-500, 500)</td>\n      <td>(20000, 1000)</td>\n      <td>(20110, 3151)</td>\n      <td>{'ep': 0.05, 'de': 0.05}</td>\n      <td>0.688828</td>\n      <td>1.00</td>\n      <td>2.663622</td>\n      <td>11.818182</td>\n    </tr>\n    <tr>\n      <th>197</th>\n      <td>sparse JL transform</td>\n      <td>500_0_(-500, 500)</td>\n      <td>(20000, 10000)</td>\n      <td>(20110, 68)</td>\n      <td>{'ep': 0.9, 'de': 0.1}</td>\n      <td>0.917972</td>\n      <td>0.98</td>\n      <td>0.267323</td>\n      <td>9.656315</td>\n    </tr>\n    <tr>\n      <th>231</th>\n      <td>JL transform</td>\n      <td>500_0_(-500, 500)</td>\n      <td>(20000, 20000)</td>\n      <td>(20110, 68)</td>\n      <td>{'ep': 0.9, 'de': 0.1}</td>\n      <td>1.733602</td>\n      <td>1.00</td>\n      <td>0.281216</td>\n      <td>6.818182</td>\n    </tr>\n  </tbody>\n</table>\n<p>324 rows × 9 columns</p>\n</div>"
     },
     "execution_count": 10,
     "metadata": {},
     "output_type": "execute_result"
    }
   ],
   "source": [
    "grouped = out_df.groupby(by=[\"filename\"], group_keys=True).apply(lambda a: a[:])\n",
    "grouped"
   ],
   "metadata": {
    "collapsed": false,
    "pycharm": {
     "name": "#%%\n"
    },
    "ExecuteTime": {
     "end_time": "2023-06-28T07:20:12.474658Z",
     "start_time": "2023-06-28T07:20:12.446271Z"
    }
   }
  },
  {
   "cell_type": "code",
   "execution_count": 11,
   "outputs": [],
   "source": [
    "grouped.to_csv(\"kmeans/kmeans_res_1.csv\")"
   ],
   "metadata": {
    "collapsed": false,
    "pycharm": {
     "name": "#%%\n"
    },
    "ExecuteTime": {
     "end_time": "2023-06-28T07:20:13.834625Z",
     "start_time": "2023-06-28T07:20:13.827365Z"
    }
   }
  },
  {
   "cell_type": "code",
   "execution_count": 8,
   "outputs": [
    {
     "data": {
      "text/plain": "                                                       original_shape  \\\nfilename                name                                            \n1000_0.33_(-100, 100)   extremely sparse JL transform               5   \n1000_0.33_(-1000, 1000) extremely sparse JL transform               5   \n1000_0.33_(-500, 500)   extremely sparse JL transform               5   \n1000_0.66_(-100, 100)   extremely sparse JL transform               6   \n1000_0.66_(-1000, 1000) extremely sparse JL transform               5   \n1000_0.66_(-500, 500)   extremely sparse JL transform               4   \n1000_0.99_(-100, 100)   extremely sparse JL transform               4   \n1000_0.99_(-1000, 1000) JL transform                                5   \n1000_0.99_(-500, 500)   extremely sparse JL transform               3   \n1000_0_(-100, 100)      PCA                                         3   \n1000_0_(-1000, 1000)    extremely sparse JL transform               5   \n1000_0_(-500, 500)      extremely sparse JL transform               5   \n100_0.33_(-100, 100)    extremely sparse JL transform               5   \n100_0.33_(-1000, 1000)  extremely sparse JL transform               5   \n100_0.33_(-500, 500)    extremely sparse JL transform               5   \n100_0.66_(-100, 100)    extremely sparse JL transform               5   \n100_0.66_(-1000, 1000)  extremely sparse JL transform               5   \n100_0.66_(-500, 500)    extremely sparse JL transform               5   \n100_0.99_(-100, 100)    sparse JL transform                         5   \n100_0.99_(-1000, 1000)  extremely sparse JL transform               5   \n100_0.99_(-500, 500)    extremely sparse JL transform               5   \n100_0_(-100, 100)       extremely sparse JL transform               5   \n100_0_(-1000, 1000)     extremely sparse JL transform               5   \n100_0_(-500, 500)       extremely sparse JL transform               5   \n500_0.33_(-100, 100)    extremely sparse JL transform               6   \n500_0.33_(-1000, 1000)  extremely sparse JL transform               5   \n500_0.33_(-500, 500)    extremely sparse JL transform               5   \n500_0.66_(-100, 100)    extremely sparse JL transform               6   \n500_0.66_(-1000, 1000)  extremely sparse JL transform               5   \n500_0.66_(-500, 500)    extremely sparse JL transform               5   \n500_0.99_(-100, 100)    extremely sparse JL transform               5   \n500_0.99_(-1000, 1000)  sparse JL transform                         4   \n500_0.99_(-500, 500)    sparse JL transform                         5   \n500_0_(-100, 100)       extremely sparse JL transform               5   \n500_0_(-1000, 1000)     extremely sparse JL transform               5   \n500_0_(-500, 500)       extremely sparse JL transform               5   \n\n                                                       transformed_shape  \\\nfilename                name                                               \n1000_0.33_(-100, 100)   extremely sparse JL transform                  5   \n1000_0.33_(-1000, 1000) extremely sparse JL transform                  5   \n1000_0.33_(-500, 500)   extremely sparse JL transform                  5   \n1000_0.66_(-100, 100)   extremely sparse JL transform                  6   \n1000_0.66_(-1000, 1000) extremely sparse JL transform                  5   \n1000_0.66_(-500, 500)   extremely sparse JL transform                  4   \n1000_0.99_(-100, 100)   extremely sparse JL transform                  4   \n1000_0.99_(-1000, 1000) JL transform                                   5   \n1000_0.99_(-500, 500)   extremely sparse JL transform                  3   \n1000_0_(-100, 100)      PCA                                            3   \n1000_0_(-1000, 1000)    extremely sparse JL transform                  5   \n1000_0_(-500, 500)      extremely sparse JL transform                  5   \n100_0.33_(-100, 100)    extremely sparse JL transform                  5   \n100_0.33_(-1000, 1000)  extremely sparse JL transform                  5   \n100_0.33_(-500, 500)    extremely sparse JL transform                  5   \n100_0.66_(-100, 100)    extremely sparse JL transform                  5   \n100_0.66_(-1000, 1000)  extremely sparse JL transform                  5   \n100_0.66_(-500, 500)    extremely sparse JL transform                  5   \n100_0.99_(-100, 100)    sparse JL transform                            5   \n100_0.99_(-1000, 1000)  extremely sparse JL transform                  5   \n100_0.99_(-500, 500)    extremely sparse JL transform                  5   \n100_0_(-100, 100)       extremely sparse JL transform                  5   \n100_0_(-1000, 1000)     extremely sparse JL transform                  5   \n100_0_(-500, 500)       extremely sparse JL transform                  5   \n500_0.33_(-100, 100)    extremely sparse JL transform                  6   \n500_0.33_(-1000, 1000)  extremely sparse JL transform                  5   \n500_0.33_(-500, 500)    extremely sparse JL transform                  5   \n500_0.66_(-100, 100)    extremely sparse JL transform                  6   \n500_0.66_(-1000, 1000)  extremely sparse JL transform                  5   \n500_0.66_(-500, 500)    extremely sparse JL transform                  5   \n500_0.99_(-100, 100)    extremely sparse JL transform                  5   \n500_0.99_(-1000, 1000)  sparse JL transform                            4   \n500_0.99_(-500, 500)    sparse JL transform                            5   \n500_0_(-100, 100)       extremely sparse JL transform                  5   \n500_0_(-1000, 1000)     extremely sparse JL transform                  5   \n500_0_(-500, 500)       extremely sparse JL transform                  5   \n\n                                                       params  reduction_time  \\\nfilename                name                                                    \n1000_0.33_(-100, 100)   extremely sparse JL transform       5               5   \n1000_0.33_(-1000, 1000) extremely sparse JL transform       5               5   \n1000_0.33_(-500, 500)   extremely sparse JL transform       5               5   \n1000_0.66_(-100, 100)   extremely sparse JL transform       6               6   \n1000_0.66_(-1000, 1000) extremely sparse JL transform       5               5   \n1000_0.66_(-500, 500)   extremely sparse JL transform       4               4   \n1000_0.99_(-100, 100)   extremely sparse JL transform       4               4   \n1000_0.99_(-1000, 1000) JL transform                        5               5   \n1000_0.99_(-500, 500)   extremely sparse JL transform       3               3   \n1000_0_(-100, 100)      PCA                                 3               3   \n1000_0_(-1000, 1000)    extremely sparse JL transform       5               5   \n1000_0_(-500, 500)      extremely sparse JL transform       5               5   \n100_0.33_(-100, 100)    extremely sparse JL transform       5               5   \n100_0.33_(-1000, 1000)  extremely sparse JL transform       5               5   \n100_0.33_(-500, 500)    extremely sparse JL transform       5               5   \n100_0.66_(-100, 100)    extremely sparse JL transform       5               5   \n100_0.66_(-1000, 1000)  extremely sparse JL transform       5               5   \n100_0.66_(-500, 500)    extremely sparse JL transform       5               5   \n100_0.99_(-100, 100)    sparse JL transform                 5               5   \n100_0.99_(-1000, 1000)  extremely sparse JL transform       5               5   \n100_0.99_(-500, 500)    extremely sparse JL transform       5               5   \n100_0_(-100, 100)       extremely sparse JL transform       5               5   \n100_0_(-1000, 1000)     extremely sparse JL transform       5               5   \n100_0_(-500, 500)       extremely sparse JL transform       5               5   \n500_0.33_(-100, 100)    extremely sparse JL transform       6               6   \n500_0.33_(-1000, 1000)  extremely sparse JL transform       5               5   \n500_0.33_(-500, 500)    extremely sparse JL transform       5               5   \n500_0.66_(-100, 100)    extremely sparse JL transform       6               6   \n500_0.66_(-1000, 1000)  extremely sparse JL transform       5               5   \n500_0.66_(-500, 500)    extremely sparse JL transform       5               5   \n500_0.99_(-100, 100)    extremely sparse JL transform       5               5   \n500_0.99_(-1000, 1000)  sparse JL transform                 4               4   \n500_0.99_(-500, 500)    sparse JL transform                 5               5   \n500_0_(-100, 100)       extremely sparse JL transform       5               5   \n500_0_(-1000, 1000)     extremely sparse JL transform       5               5   \n500_0_(-500, 500)       extremely sparse JL transform       5               5   \n\n                                                       accuracy  train_time  \\\nfilename                name                                                  \n1000_0.33_(-100, 100)   extremely sparse JL transform         5           5   \n1000_0.33_(-1000, 1000) extremely sparse JL transform         5           5   \n1000_0.33_(-500, 500)   extremely sparse JL transform         5           5   \n1000_0.66_(-100, 100)   extremely sparse JL transform         6           6   \n1000_0.66_(-1000, 1000) extremely sparse JL transform         5           5   \n1000_0.66_(-500, 500)   extremely sparse JL transform         4           4   \n1000_0.99_(-100, 100)   extremely sparse JL transform         4           4   \n1000_0.99_(-1000, 1000) JL transform                          5           5   \n1000_0.99_(-500, 500)   extremely sparse JL transform         3           3   \n1000_0_(-100, 100)      PCA                                   3           3   \n1000_0_(-1000, 1000)    extremely sparse JL transform         5           5   \n1000_0_(-500, 500)      extremely sparse JL transform         5           5   \n100_0.33_(-100, 100)    extremely sparse JL transform         5           5   \n100_0.33_(-1000, 1000)  extremely sparse JL transform         5           5   \n100_0.33_(-500, 500)    extremely sparse JL transform         5           5   \n100_0.66_(-100, 100)    extremely sparse JL transform         5           5   \n100_0.66_(-1000, 1000)  extremely sparse JL transform         5           5   \n100_0.66_(-500, 500)    extremely sparse JL transform         5           5   \n100_0.99_(-100, 100)    sparse JL transform                   5           5   \n100_0.99_(-1000, 1000)  extremely sparse JL transform         5           5   \n100_0.99_(-500, 500)    extremely sparse JL transform         5           5   \n100_0_(-100, 100)       extremely sparse JL transform         5           5   \n100_0_(-1000, 1000)     extremely sparse JL transform         5           5   \n100_0_(-500, 500)       extremely sparse JL transform         5           5   \n500_0.33_(-100, 100)    extremely sparse JL transform         6           6   \n500_0.33_(-1000, 1000)  extremely sparse JL transform         5           5   \n500_0.33_(-500, 500)    extremely sparse JL transform         5           5   \n500_0.66_(-100, 100)    extremely sparse JL transform         6           6   \n500_0.66_(-1000, 1000)  extremely sparse JL transform         5           5   \n500_0.66_(-500, 500)    extremely sparse JL transform         5           5   \n500_0.99_(-100, 100)    extremely sparse JL transform         5           5   \n500_0.99_(-1000, 1000)  sparse JL transform                   4           4   \n500_0.99_(-500, 500)    sparse JL transform                   5           5   \n500_0_(-100, 100)       extremely sparse JL transform         5           5   \n500_0_(-1000, 1000)     extremely sparse JL transform         5           5   \n500_0_(-500, 500)       extremely sparse JL transform         5           5   \n\n                                                       score_series  \nfilename                name                                         \n1000_0.33_(-100, 100)   extremely sparse JL transform             5  \n1000_0.33_(-1000, 1000) extremely sparse JL transform             5  \n1000_0.33_(-500, 500)   extremely sparse JL transform             5  \n1000_0.66_(-100, 100)   extremely sparse JL transform             6  \n1000_0.66_(-1000, 1000) extremely sparse JL transform             5  \n1000_0.66_(-500, 500)   extremely sparse JL transform             4  \n1000_0.99_(-100, 100)   extremely sparse JL transform             4  \n1000_0.99_(-1000, 1000) JL transform                              5  \n1000_0.99_(-500, 500)   extremely sparse JL transform             3  \n1000_0_(-100, 100)      PCA                                       3  \n1000_0_(-1000, 1000)    extremely sparse JL transform             5  \n1000_0_(-500, 500)      extremely sparse JL transform             5  \n100_0.33_(-100, 100)    extremely sparse JL transform             5  \n100_0.33_(-1000, 1000)  extremely sparse JL transform             5  \n100_0.33_(-500, 500)    extremely sparse JL transform             5  \n100_0.66_(-100, 100)    extremely sparse JL transform             5  \n100_0.66_(-1000, 1000)  extremely sparse JL transform             5  \n100_0.66_(-500, 500)    extremely sparse JL transform             5  \n100_0.99_(-100, 100)    sparse JL transform                       5  \n100_0.99_(-1000, 1000)  extremely sparse JL transform             5  \n100_0.99_(-500, 500)    extremely sparse JL transform             5  \n100_0_(-100, 100)       extremely sparse JL transform             5  \n100_0_(-1000, 1000)     extremely sparse JL transform             5  \n100_0_(-500, 500)       extremely sparse JL transform             5  \n500_0.33_(-100, 100)    extremely sparse JL transform             6  \n500_0.33_(-1000, 1000)  extremely sparse JL transform             5  \n500_0.33_(-500, 500)    extremely sparse JL transform             5  \n500_0.66_(-100, 100)    extremely sparse JL transform             6  \n500_0.66_(-1000, 1000)  extremely sparse JL transform             5  \n500_0.66_(-500, 500)    extremely sparse JL transform             5  \n500_0.99_(-100, 100)    extremely sparse JL transform             5  \n500_0.99_(-1000, 1000)  sparse JL transform                       4  \n500_0.99_(-500, 500)    sparse JL transform                       5  \n500_0_(-100, 100)       extremely sparse JL transform             5  \n500_0_(-1000, 1000)     extremely sparse JL transform             5  \n500_0_(-500, 500)       extremely sparse JL transform             5  ",
      "text/html": "<div>\n<style scoped>\n    .dataframe tbody tr th:only-of-type {\n        vertical-align: middle;\n    }\n\n    .dataframe tbody tr th {\n        vertical-align: top;\n    }\n\n    .dataframe thead th {\n        text-align: right;\n    }\n</style>\n<table border=\"1\" class=\"dataframe\">\n  <thead>\n    <tr style=\"text-align: right;\">\n      <th></th>\n      <th></th>\n      <th>original_shape</th>\n      <th>transformed_shape</th>\n      <th>params</th>\n      <th>reduction_time</th>\n      <th>accuracy</th>\n      <th>train_time</th>\n      <th>score_series</th>\n    </tr>\n    <tr>\n      <th>filename</th>\n      <th>name</th>\n      <th></th>\n      <th></th>\n      <th></th>\n      <th></th>\n      <th></th>\n      <th></th>\n      <th></th>\n    </tr>\n  </thead>\n  <tbody>\n    <tr>\n      <th>1000_0.33_(-100, 100)</th>\n      <th>extremely sparse JL transform</th>\n      <td>5</td>\n      <td>5</td>\n      <td>5</td>\n      <td>5</td>\n      <td>5</td>\n      <td>5</td>\n      <td>5</td>\n    </tr>\n    <tr>\n      <th>1000_0.33_(-1000, 1000)</th>\n      <th>extremely sparse JL transform</th>\n      <td>5</td>\n      <td>5</td>\n      <td>5</td>\n      <td>5</td>\n      <td>5</td>\n      <td>5</td>\n      <td>5</td>\n    </tr>\n    <tr>\n      <th>1000_0.33_(-500, 500)</th>\n      <th>extremely sparse JL transform</th>\n      <td>5</td>\n      <td>5</td>\n      <td>5</td>\n      <td>5</td>\n      <td>5</td>\n      <td>5</td>\n      <td>5</td>\n    </tr>\n    <tr>\n      <th>1000_0.66_(-100, 100)</th>\n      <th>extremely sparse JL transform</th>\n      <td>6</td>\n      <td>6</td>\n      <td>6</td>\n      <td>6</td>\n      <td>6</td>\n      <td>6</td>\n      <td>6</td>\n    </tr>\n    <tr>\n      <th>1000_0.66_(-1000, 1000)</th>\n      <th>extremely sparse JL transform</th>\n      <td>5</td>\n      <td>5</td>\n      <td>5</td>\n      <td>5</td>\n      <td>5</td>\n      <td>5</td>\n      <td>5</td>\n    </tr>\n    <tr>\n      <th>1000_0.66_(-500, 500)</th>\n      <th>extremely sparse JL transform</th>\n      <td>4</td>\n      <td>4</td>\n      <td>4</td>\n      <td>4</td>\n      <td>4</td>\n      <td>4</td>\n      <td>4</td>\n    </tr>\n    <tr>\n      <th>1000_0.99_(-100, 100)</th>\n      <th>extremely sparse JL transform</th>\n      <td>4</td>\n      <td>4</td>\n      <td>4</td>\n      <td>4</td>\n      <td>4</td>\n      <td>4</td>\n      <td>4</td>\n    </tr>\n    <tr>\n      <th>1000_0.99_(-1000, 1000)</th>\n      <th>JL transform</th>\n      <td>5</td>\n      <td>5</td>\n      <td>5</td>\n      <td>5</td>\n      <td>5</td>\n      <td>5</td>\n      <td>5</td>\n    </tr>\n    <tr>\n      <th>1000_0.99_(-500, 500)</th>\n      <th>extremely sparse JL transform</th>\n      <td>3</td>\n      <td>3</td>\n      <td>3</td>\n      <td>3</td>\n      <td>3</td>\n      <td>3</td>\n      <td>3</td>\n    </tr>\n    <tr>\n      <th>1000_0_(-100, 100)</th>\n      <th>PCA</th>\n      <td>3</td>\n      <td>3</td>\n      <td>3</td>\n      <td>3</td>\n      <td>3</td>\n      <td>3</td>\n      <td>3</td>\n    </tr>\n    <tr>\n      <th>1000_0_(-1000, 1000)</th>\n      <th>extremely sparse JL transform</th>\n      <td>5</td>\n      <td>5</td>\n      <td>5</td>\n      <td>5</td>\n      <td>5</td>\n      <td>5</td>\n      <td>5</td>\n    </tr>\n    <tr>\n      <th>1000_0_(-500, 500)</th>\n      <th>extremely sparse JL transform</th>\n      <td>5</td>\n      <td>5</td>\n      <td>5</td>\n      <td>5</td>\n      <td>5</td>\n      <td>5</td>\n      <td>5</td>\n    </tr>\n    <tr>\n      <th>100_0.33_(-100, 100)</th>\n      <th>extremely sparse JL transform</th>\n      <td>5</td>\n      <td>5</td>\n      <td>5</td>\n      <td>5</td>\n      <td>5</td>\n      <td>5</td>\n      <td>5</td>\n    </tr>\n    <tr>\n      <th>100_0.33_(-1000, 1000)</th>\n      <th>extremely sparse JL transform</th>\n      <td>5</td>\n      <td>5</td>\n      <td>5</td>\n      <td>5</td>\n      <td>5</td>\n      <td>5</td>\n      <td>5</td>\n    </tr>\n    <tr>\n      <th>100_0.33_(-500, 500)</th>\n      <th>extremely sparse JL transform</th>\n      <td>5</td>\n      <td>5</td>\n      <td>5</td>\n      <td>5</td>\n      <td>5</td>\n      <td>5</td>\n      <td>5</td>\n    </tr>\n    <tr>\n      <th>100_0.66_(-100, 100)</th>\n      <th>extremely sparse JL transform</th>\n      <td>5</td>\n      <td>5</td>\n      <td>5</td>\n      <td>5</td>\n      <td>5</td>\n      <td>5</td>\n      <td>5</td>\n    </tr>\n    <tr>\n      <th>100_0.66_(-1000, 1000)</th>\n      <th>extremely sparse JL transform</th>\n      <td>5</td>\n      <td>5</td>\n      <td>5</td>\n      <td>5</td>\n      <td>5</td>\n      <td>5</td>\n      <td>5</td>\n    </tr>\n    <tr>\n      <th>100_0.66_(-500, 500)</th>\n      <th>extremely sparse JL transform</th>\n      <td>5</td>\n      <td>5</td>\n      <td>5</td>\n      <td>5</td>\n      <td>5</td>\n      <td>5</td>\n      <td>5</td>\n    </tr>\n    <tr>\n      <th>100_0.99_(-100, 100)</th>\n      <th>sparse JL transform</th>\n      <td>5</td>\n      <td>5</td>\n      <td>5</td>\n      <td>5</td>\n      <td>5</td>\n      <td>5</td>\n      <td>5</td>\n    </tr>\n    <tr>\n      <th>100_0.99_(-1000, 1000)</th>\n      <th>extremely sparse JL transform</th>\n      <td>5</td>\n      <td>5</td>\n      <td>5</td>\n      <td>5</td>\n      <td>5</td>\n      <td>5</td>\n      <td>5</td>\n    </tr>\n    <tr>\n      <th>100_0.99_(-500, 500)</th>\n      <th>extremely sparse JL transform</th>\n      <td>5</td>\n      <td>5</td>\n      <td>5</td>\n      <td>5</td>\n      <td>5</td>\n      <td>5</td>\n      <td>5</td>\n    </tr>\n    <tr>\n      <th>100_0_(-100, 100)</th>\n      <th>extremely sparse JL transform</th>\n      <td>5</td>\n      <td>5</td>\n      <td>5</td>\n      <td>5</td>\n      <td>5</td>\n      <td>5</td>\n      <td>5</td>\n    </tr>\n    <tr>\n      <th>100_0_(-1000, 1000)</th>\n      <th>extremely sparse JL transform</th>\n      <td>5</td>\n      <td>5</td>\n      <td>5</td>\n      <td>5</td>\n      <td>5</td>\n      <td>5</td>\n      <td>5</td>\n    </tr>\n    <tr>\n      <th>100_0_(-500, 500)</th>\n      <th>extremely sparse JL transform</th>\n      <td>5</td>\n      <td>5</td>\n      <td>5</td>\n      <td>5</td>\n      <td>5</td>\n      <td>5</td>\n      <td>5</td>\n    </tr>\n    <tr>\n      <th>500_0.33_(-100, 100)</th>\n      <th>extremely sparse JL transform</th>\n      <td>6</td>\n      <td>6</td>\n      <td>6</td>\n      <td>6</td>\n      <td>6</td>\n      <td>6</td>\n      <td>6</td>\n    </tr>\n    <tr>\n      <th>500_0.33_(-1000, 1000)</th>\n      <th>extremely sparse JL transform</th>\n      <td>5</td>\n      <td>5</td>\n      <td>5</td>\n      <td>5</td>\n      <td>5</td>\n      <td>5</td>\n      <td>5</td>\n    </tr>\n    <tr>\n      <th>500_0.33_(-500, 500)</th>\n      <th>extremely sparse JL transform</th>\n      <td>5</td>\n      <td>5</td>\n      <td>5</td>\n      <td>5</td>\n      <td>5</td>\n      <td>5</td>\n      <td>5</td>\n    </tr>\n    <tr>\n      <th>500_0.66_(-100, 100)</th>\n      <th>extremely sparse JL transform</th>\n      <td>6</td>\n      <td>6</td>\n      <td>6</td>\n      <td>6</td>\n      <td>6</td>\n      <td>6</td>\n      <td>6</td>\n    </tr>\n    <tr>\n      <th>500_0.66_(-1000, 1000)</th>\n      <th>extremely sparse JL transform</th>\n      <td>5</td>\n      <td>5</td>\n      <td>5</td>\n      <td>5</td>\n      <td>5</td>\n      <td>5</td>\n      <td>5</td>\n    </tr>\n    <tr>\n      <th>500_0.66_(-500, 500)</th>\n      <th>extremely sparse JL transform</th>\n      <td>5</td>\n      <td>5</td>\n      <td>5</td>\n      <td>5</td>\n      <td>5</td>\n      <td>5</td>\n      <td>5</td>\n    </tr>\n    <tr>\n      <th>500_0.99_(-100, 100)</th>\n      <th>extremely sparse JL transform</th>\n      <td>5</td>\n      <td>5</td>\n      <td>5</td>\n      <td>5</td>\n      <td>5</td>\n      <td>5</td>\n      <td>5</td>\n    </tr>\n    <tr>\n      <th>500_0.99_(-1000, 1000)</th>\n      <th>sparse JL transform</th>\n      <td>4</td>\n      <td>4</td>\n      <td>4</td>\n      <td>4</td>\n      <td>4</td>\n      <td>4</td>\n      <td>4</td>\n    </tr>\n    <tr>\n      <th>500_0.99_(-500, 500)</th>\n      <th>sparse JL transform</th>\n      <td>5</td>\n      <td>5</td>\n      <td>5</td>\n      <td>5</td>\n      <td>5</td>\n      <td>5</td>\n      <td>5</td>\n    </tr>\n    <tr>\n      <th>500_0_(-100, 100)</th>\n      <th>extremely sparse JL transform</th>\n      <td>5</td>\n      <td>5</td>\n      <td>5</td>\n      <td>5</td>\n      <td>5</td>\n      <td>5</td>\n      <td>5</td>\n    </tr>\n    <tr>\n      <th>500_0_(-1000, 1000)</th>\n      <th>extremely sparse JL transform</th>\n      <td>5</td>\n      <td>5</td>\n      <td>5</td>\n      <td>5</td>\n      <td>5</td>\n      <td>5</td>\n      <td>5</td>\n    </tr>\n    <tr>\n      <th>500_0_(-500, 500)</th>\n      <th>extremely sparse JL transform</th>\n      <td>5</td>\n      <td>5</td>\n      <td>5</td>\n      <td>5</td>\n      <td>5</td>\n      <td>5</td>\n      <td>5</td>\n    </tr>\n  </tbody>\n</table>\n</div>"
     },
     "execution_count": 8,
     "metadata": {},
     "output_type": "execute_result"
    }
   ],
   "source": [
    "out_df.groupby([\"filename\", \"name\"]).count().sort_values(by=\"original_shape\").groupby(level=0).tail(1).sort_values(by=\"filename\")\n"
   ],
   "metadata": {
    "collapsed": false,
    "pycharm": {
     "name": "#%%\n"
    },
    "ExecuteTime": {
     "end_time": "2023-06-28T07:16:12.966092Z",
     "start_time": "2023-06-28T07:16:12.814900Z"
    }
   }
  },
  {
   "cell_type": "code",
   "execution_count": 8,
   "outputs": [],
   "source": [],
   "metadata": {
    "collapsed": false,
    "pycharm": {
     "name": "#%%\n"
    },
    "ExecuteTime": {
     "end_time": "2023-06-28T07:16:13.042331Z",
     "start_time": "2023-06-28T07:16:12.928811Z"
    }
   }
  },
  {
   "cell_type": "code",
   "execution_count": 8,
   "outputs": [],
   "source": [],
   "metadata": {
    "collapsed": false,
    "pycharm": {
     "name": "#%%\n"
    },
    "ExecuteTime": {
     "end_time": "2023-06-28T07:16:13.044164Z",
     "start_time": "2023-06-28T07:16:13.018115Z"
    }
   }
  }
 ],
 "metadata": {
  "kernelspec": {
   "display_name": "Python 3",
   "language": "python",
   "name": "python3"
  },
  "language_info": {
   "codemirror_mode": {
    "name": "ipython",
    "version": 2
   },
   "file_extension": ".py",
   "mimetype": "text/x-python",
   "name": "python",
   "nbconvert_exporter": "python",
   "pygments_lexer": "ipython2",
   "version": "2.7.6"
  }
 },
 "nbformat": 4,
 "nbformat_minor": 0
}
