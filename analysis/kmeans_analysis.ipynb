{
 "cells": [
  {
   "cell_type": "code",
   "execution_count": 30,
   "metadata": {
    "collapsed": true,
    "pycharm": {
     "name": "#%%\n"
    },
    "ExecuteTime": {
     "end_time": "2023-06-25T03:27:33.701287Z",
     "start_time": "2023-06-25T03:27:33.696176Z"
    }
   },
   "outputs": [],
   "source": [
    "import pandas as pd\n",
    "from matplotlib import pyplot as plt\n",
    "import os\n",
    "from IPython.core.interactiveshell import InteractiveShell"
   ]
  },
  {
   "cell_type": "code",
   "execution_count": 31,
   "outputs": [],
   "source": [
    "path = \"../output/kmeans/\"\n",
    "df_each = []\n",
    "for filename in os.listdir(path):\n",
    "    f = os.path.join(path, filename)\n",
    "    if os.path.isfile(f):\n",
    "        temp = pd.read_csv(f)\n",
    "        temp = temp[temp.name.apply(lambda x: x != \"name\")]\n",
    "        df_each.append((temp, filename))"
   ],
   "metadata": {
    "collapsed": false,
    "pycharm": {
     "name": "#%%\n"
    },
    "ExecuteTime": {
     "end_time": "2023-06-25T03:27:34.207993Z",
     "start_time": "2023-06-25T03:27:34.138934Z"
    }
   }
  },
  {
   "cell_type": "code",
   "execution_count": 32,
   "outputs": [
    {
     "name": "stdout",
     "output_type": "stream",
     "text": [
      "36\n"
     ]
    },
    {
     "data": {
      "text/plain": "Index(['name', 'run_num', 'params', 'reduction_time', 'train_time', 'accuracy',\n       'original_std_sum', 'original_std_mean', 'original_std_median',\n       'original_std_max', 'original_std_min', 'original_sparsity',\n       'original_shape', 'transformed_std_sum', 'transformed_std_mean',\n       'transformed_std_median', 'transformed_std_max', 'transformed_std_min',\n       'transformed_sparsity', 'transformed_shape', 'characteristics'],\n      dtype='object')"
     },
     "execution_count": 32,
     "metadata": {},
     "output_type": "execute_result"
    }
   ],
   "source": [
    "print(len(df_each))\n",
    "df_each[0][0].columns"
   ],
   "metadata": {
    "collapsed": false,
    "pycharm": {
     "name": "#%%\n"
    },
    "ExecuteTime": {
     "end_time": "2023-06-25T03:27:34.608741Z",
     "start_time": "2023-06-25T03:27:34.605938Z"
    }
   }
  },
  {
   "cell_type": "code",
   "execution_count": 37,
   "outputs": [
    {
     "data": {
      "text/plain": "                                                                 accuracy  \\\nname                params                   original_shape                 \nJL transform        {'ep': 0.05, 'de': 0.05} (1000, 1000)   16       0.95   \n                                             (1000, 10000)  42       1.00   \n                                             (1000, 20000)  68       1.00   \n                                             (10000, 1000)  94       1.00   \n                                             (10000, 10000) 120      1.00   \n...                                                                   ...   \nsparse JL transform {'ep': 0.9, 'de': 0.1}   (10000, 1000)  93       1.00   \n                                             (10000, 10000) 119      1.00   \n                                             (10000, 20000) 145      0.98   \n                                             (20000, 1000)  171      1.00   \n                                             (20000, 10000) 197      1.00   \n\n                                                                 reduction_time  \nname                params                   original_shape                      \nJL transform        {'ep': 0.05, 'de': 0.05} (1000, 1000)   16         0.026032  \n                                             (1000, 10000)  42         0.601206  \n                                             (1000, 20000)  68         2.896686  \n                                             (10000, 1000)  94         0.044360  \n                                             (10000, 10000) 120        2.799881  \n...                                                                         ...  \nsparse JL transform {'ep': 0.9, 'de': 0.1}   (10000, 1000)  93         0.045460  \n                                             (10000, 10000) 119        0.600290  \n                                             (10000, 20000) 145        1.188127  \n                                             (20000, 1000)  171        0.076571  \n                                             (20000, 10000) 197        0.938322  \n\n[208 rows x 2 columns]",
      "text/html": "<div>\n<style scoped>\n    .dataframe tbody tr th:only-of-type {\n        vertical-align: middle;\n    }\n\n    .dataframe tbody tr th {\n        vertical-align: top;\n    }\n\n    .dataframe thead th {\n        text-align: right;\n    }\n</style>\n<table border=\"1\" class=\"dataframe\">\n  <thead>\n    <tr style=\"text-align: right;\">\n      <th></th>\n      <th></th>\n      <th></th>\n      <th></th>\n      <th>accuracy</th>\n      <th>reduction_time</th>\n    </tr>\n    <tr>\n      <th>name</th>\n      <th>params</th>\n      <th>original_shape</th>\n      <th></th>\n      <th></th>\n      <th></th>\n    </tr>\n  </thead>\n  <tbody>\n    <tr>\n      <th rowspan=\"5\" valign=\"top\">JL transform</th>\n      <th rowspan=\"5\" valign=\"top\">{'ep': 0.05, 'de': 0.05}</th>\n      <th>(1000, 1000)</th>\n      <th>16</th>\n      <td>0.95</td>\n      <td>0.026032</td>\n    </tr>\n    <tr>\n      <th>(1000, 10000)</th>\n      <th>42</th>\n      <td>1.00</td>\n      <td>0.601206</td>\n    </tr>\n    <tr>\n      <th>(1000, 20000)</th>\n      <th>68</th>\n      <td>1.00</td>\n      <td>2.896686</td>\n    </tr>\n    <tr>\n      <th>(10000, 1000)</th>\n      <th>94</th>\n      <td>1.00</td>\n      <td>0.044360</td>\n    </tr>\n    <tr>\n      <th>(10000, 10000)</th>\n      <th>120</th>\n      <td>1.00</td>\n      <td>2.799881</td>\n    </tr>\n    <tr>\n      <th>...</th>\n      <th>...</th>\n      <th>...</th>\n      <th>...</th>\n      <td>...</td>\n      <td>...</td>\n    </tr>\n    <tr>\n      <th rowspan=\"5\" valign=\"top\">sparse JL transform</th>\n      <th rowspan=\"5\" valign=\"top\">{'ep': 0.9, 'de': 0.1}</th>\n      <th>(10000, 1000)</th>\n      <th>93</th>\n      <td>1.00</td>\n      <td>0.045460</td>\n    </tr>\n    <tr>\n      <th>(10000, 10000)</th>\n      <th>119</th>\n      <td>1.00</td>\n      <td>0.600290</td>\n    </tr>\n    <tr>\n      <th>(10000, 20000)</th>\n      <th>145</th>\n      <td>0.98</td>\n      <td>1.188127</td>\n    </tr>\n    <tr>\n      <th>(20000, 1000)</th>\n      <th>171</th>\n      <td>1.00</td>\n      <td>0.076571</td>\n    </tr>\n    <tr>\n      <th>(20000, 10000)</th>\n      <th>197</th>\n      <td>1.00</td>\n      <td>0.938322</td>\n    </tr>\n  </tbody>\n</table>\n<p>208 rows × 2 columns</p>\n</div>"
     },
     "execution_count": 37,
     "metadata": {},
     "output_type": "execute_result"
    }
   ],
   "source": [
    "chosen_df = df_each[20][0]\n",
    "grouped = chosen_df.groupby(by=[\"name\", \"params\", \"original_shape\"])\n",
    "min_ind = grouped[\"reduction_time\"].idxmin()\n",
    "chosen_df.loc[min_ind].groupby(by=[\"name\", \"params\", \"original_shape\"], group_keys=True).apply(lambda x: x)[[\"accuracy\", \"reduction_time\"]]"
   ],
   "metadata": {
    "collapsed": false,
    "pycharm": {
     "name": "#%%\n"
    },
    "ExecuteTime": {
     "end_time": "2023-06-25T03:33:01.925808Z",
     "start_time": "2023-06-25T03:33:01.876717Z"
    }
   }
  },
  {
   "cell_type": "code",
   "execution_count": 11,
   "outputs": [
    {
     "data": {
      "text/plain": "[(2, 1),\n (3, 2),\n (4, 2),\n (5, 3),\n (6, 3),\n (7, 4),\n (8, 3),\n (9, 4),\n (10, 4),\n (11, 5),\n (12, 4),\n (13, 5),\n (14, 5),\n (15, 5),\n (16, 4),\n (17, 5),\n (18, 5),\n (19, 6),\n (20, 5),\n (21, 6),\n (22, 6),\n (23, 6),\n (24, 5),\n (25, 6),\n (26, 6),\n (27, 7),\n (28, 6),\n (29, 7),\n (30, 6),\n (31, 6),\n (32, 5),\n (33, 6),\n (34, 6),\n (35, 7),\n (36, 6),\n (37, 7),\n (38, 7),\n (39, 7),\n (40, 6),\n (41, 7),\n (42, 7),\n (43, 8),\n (44, 7),\n (45, 8),\n (46, 7),\n (47, 7),\n (48, 6),\n (49, 7),\n (50, 7),\n (51, 8),\n (52, 7),\n (53, 8),\n (54, 8),\n (55, 8),\n (56, 7),\n (57, 8),\n (58, 8),\n (59, 8),\n (60, 7),\n (61, 8),\n (62, 7),\n (63, 7),\n (64, 6),\n (65, 7),\n (66, 7),\n (67, 8),\n (68, 7),\n (69, 8),\n (70, 8),\n (71, 8),\n (72, 7),\n (73, 8),\n (74, 8),\n (75, 9),\n (76, 8),\n (77, 9),\n (78, 8),\n (79, 8),\n (80, 7),\n (81, 8),\n (82, 8),\n (83, 9),\n (84, 8),\n (85, 9),\n (86, 9),\n (87, 9),\n (88, 8),\n (89, 9),\n (90, 9),\n (91, 9),\n (92, 8),\n (93, 9),\n (94, 8),\n (95, 8),\n (96, 7),\n (97, 8),\n (98, 8),\n (99, 9)]"
     },
     "execution_count": 11,
     "metadata": {},
     "output_type": "execute_result"
    }
   ],
   "source": [
    "def sol_2(n):\n",
    "    cnt = 0\n",
    "    while n > 1:\n",
    "        if n == 3:\n",
    "            cnt += 2\n",
    "            break\n",
    "        elif n % 2 == 0:\n",
    "            n /= 2\n",
    "        elif n % 4 == 1:\n",
    "            n -= 1\n",
    "        else:\n",
    "            n += 1\n",
    "        cnt += 1\n",
    "    return cnt\n",
    "\n",
    "[(i, sol_2(i)) for i in range(2, 100)]"
   ],
   "metadata": {
    "collapsed": false,
    "pycharm": {
     "name": "#%%\n"
    }
   }
  },
  {
   "cell_type": "code",
   "execution_count": 20,
   "outputs": [
    {
     "data": {
      "text/plain": "40"
     },
     "execution_count": 20,
     "metadata": {},
     "output_type": "execute_result"
    }
   ],
   "source": [
    "sol_2(10000000000)"
   ],
   "metadata": {
    "collapsed": false,
    "pycharm": {
     "name": "#%%\n"
    }
   }
  },
  {
   "cell_type": "code",
   "execution_count": 23,
   "outputs": [
    {
     "data": {
      "text/plain": "40"
     },
     "execution_count": 23,
     "metadata": {},
     "output_type": "execute_result"
    }
   ],
   "source": [
    "mp = {}\n",
    "\n",
    "def minops(n, steps):\n",
    "    if n == 1: return steps\n",
    "    if n in mp: return mp[n] + steps\n",
    "    if n % 2 == 0:\n",
    "        cnt = minops(n/2, steps + 1)\n",
    "        mp[n] = cnt - steps\n",
    "        return cnt\n",
    "    cnt = min(minops(n - 1, steps + 1), minops(n + 1, steps + 1))\n",
    "    mp[n] = cnt - steps\n",
    "    return cnt\n",
    "\n",
    "minops(10000000000, 0)"
   ],
   "metadata": {
    "collapsed": false,
    "pycharm": {
     "name": "#%%\n"
    }
   }
  },
  {
   "cell_type": "code",
   "execution_count": null,
   "outputs": [],
   "source": [],
   "metadata": {
    "collapsed": false,
    "pycharm": {
     "name": "#%%\n"
    }
   }
  }
 ],
 "metadata": {
  "kernelspec": {
   "display_name": "Python 3",
   "language": "python",
   "name": "python3"
  },
  "language_info": {
   "codemirror_mode": {
    "name": "ipython",
    "version": 2
   },
   "file_extension": ".py",
   "mimetype": "text/x-python",
   "name": "python",
   "nbconvert_exporter": "python",
   "pygments_lexer": "ipython2",
   "version": "2.7.6"
  }
 },
 "nbformat": 4,
 "nbformat_minor": 0
}
