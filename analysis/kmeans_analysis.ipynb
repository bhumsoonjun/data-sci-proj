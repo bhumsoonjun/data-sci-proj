{
 "cells": [
  {
   "cell_type": "code",
   "execution_count": 8,
   "metadata": {
    "collapsed": true,
    "pycharm": {
     "name": "#%%\n"
    }
   },
   "outputs": [],
   "source": [
    "import pandas as pd\n",
    "from matplotlib import pyplot as plt\n",
    "import os"
   ]
  },
  {
   "cell_type": "code",
   "execution_count": 11,
   "outputs": [],
   "source": [
    "path = \"../output/kmeans/\"\n",
    "df_each = []\n",
    "for filename in os.listdir(path):\n",
    "    f = os.path.join(path, filename)\n",
    "    if os.path.isfile(f):\n",
    "        temp = pd.read_csv(f)\n",
    "        temp = temp[temp.name.apply(lambda x: x != \"name\")]\n",
    "        df_each.append((temp, filename))"
   ],
   "metadata": {
    "collapsed": false,
    "pycharm": {
     "name": "#%%\n"
    }
   }
  },
  {
   "cell_type": "code",
   "execution_count": 12,
   "outputs": [
    {
     "name": "stdout",
     "output_type": "stream",
     "text": [
      "1\n"
     ]
    },
    {
     "data": {
      "text/plain": "Index(['name', 'run_num', 'params', 'reduction_time', 'accuracy',\n       'original_std_sum', 'original_std_mean', 'original_std_median',\n       'original_std_max', 'original_std_min', 'original_sparsity',\n       'transformed_std_sum', 'transformed_std_mean', 'transformed_std_median',\n       'transformed_std_max', 'transformed_std_min', 'transformed_sparsity',\n       'characteristics'],\n      dtype='object')"
     },
     "execution_count": 12,
     "metadata": {},
     "output_type": "execute_result"
    }
   ],
   "source": [
    "print(len(df_each))\n",
    "df_each[0][0].columns"
   ],
   "metadata": {
    "collapsed": false,
    "pycharm": {
     "name": "#%%\n"
    }
   }
  },
  {
   "cell_type": "code",
   "execution_count": 14,
   "outputs": [
    {
     "data": {
      "text/plain": "(name                           params                  \n JL transform                   {'ep': 0.05, 'de': 0.05}    0.009709618\n                                {'ep': 0.05, 'de': 0.1}     0.008342635\n                                {'ep': 0.1, 'de': 0.05}     0.008689303\n                                {'ep': 0.1, 'de': 0.1}      0.012512708\n                                {'ep': 0.5, 'de': 0.05}     0.011248207\n                                {'ep': 0.5, 'de': 0.1}      0.021972683\n                                {'ep': 0.9, 'de': 0.05}     0.007082351\n                                {'ep': 0.9, 'de': 0.1}      0.013333077\n Nothing                        {}                          0.001645217\n PCA                            {}                          0.001803286\n extremely sparse JL transform  {'ep': 0.05, 'de': 0.05}    0.018596254\n                                {'ep': 0.05, 'de': 0.1}     0.010561676\n                                {'ep': 0.1, 'de': 0.05}      0.01083787\n                                {'ep': 0.1, 'de': 0.1}      0.009029065\n                                {'ep': 0.5, 'de': 0.05}     0.009692402\n                                {'ep': 0.5, 'de': 0.1}      0.009167474\n                                {'ep': 0.9, 'de': 0.05}     0.009752416\n                                {'ep': 0.9, 'de': 0.1}      0.009350039\n sparse JL transform            {'ep': 0.05, 'de': 0.05}    0.008400172\n                                {'ep': 0.05, 'de': 0.1}      0.00763486\n                                {'ep': 0.1, 'de': 0.05}      0.00849474\n                                {'ep': 0.1, 'de': 0.1}      0.007116474\n                                {'ep': 0.5, 'de': 0.05}     0.005868106\n                                {'ep': 0.5, 'de': 0.1}      0.006640067\n                                {'ep': 0.9, 'de': 0.05}     0.009190797\n                                {'ep': 0.9, 'de': 0.1}      0.006012743\n Name: reduction_time, dtype: object,\n '2')"
     },
     "execution_count": 14,
     "metadata": {},
     "output_type": "execute_result"
    }
   ],
   "source": [
    "df_each[0][0].groupby(by=[\"name\", \"params\"])[\"reduction_time\"].min(), df_each[0][1]"
   ],
   "metadata": {
    "collapsed": false,
    "pycharm": {
     "name": "#%%\n"
    }
   }
  },
  {
   "cell_type": "code",
   "execution_count": null,
   "outputs": [],
   "source": [],
   "metadata": {
    "collapsed": false,
    "pycharm": {
     "name": "#%%\n"
    }
   }
  }
 ],
 "metadata": {
  "kernelspec": {
   "display_name": "Python 3",
   "language": "python",
   "name": "python3"
  },
  "language_info": {
   "codemirror_mode": {
    "name": "ipython",
    "version": 2
   },
   "file_extension": ".py",
   "mimetype": "text/x-python",
   "name": "python",
   "nbconvert_exporter": "python",
   "pygments_lexer": "ipython2",
   "version": "2.7.6"
  }
 },
 "nbformat": 4,
 "nbformat_minor": 0
}