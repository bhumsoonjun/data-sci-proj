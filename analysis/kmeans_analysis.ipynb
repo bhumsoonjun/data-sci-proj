{
 "cells": [
  {
   "cell_type": "code",
   "execution_count": 8,
   "metadata": {
    "collapsed": true,
    "pycharm": {
     "name": "#%%\n"
    }
   },
   "outputs": [],
   "source": [
    "import pandas as pd\n",
    "from matplotlib import pyplot as plt\n",
    "import os"
   ]
  },
  {
   "cell_type": "code",
   "execution_count": 11,
   "outputs": [],
   "source": [
    "path = \"../output/kmeans/\"\n",
    "df_each = []\n",
    "for filename in os.listdir(path):\n",
    "    f = os.path.join(path, filename)\n",
    "    if os.path.isfile(f):\n",
    "        temp = pd.read_csv(f)\n",
    "        temp = temp[temp.name.apply(lambda x: x != \"name\")]\n",
    "        df_each.append((temp, filename))"
   ],
   "metadata": {
    "collapsed": false,
    "pycharm": {
     "name": "#%%\n"
    }
   }
  },
  {
   "cell_type": "code",
   "execution_count": 12,
   "outputs": [
    {
     "name": "stdout",
     "output_type": "stream",
     "text": [
      "1\n"
     ]
    },
    {
     "data": {
      "text/plain": "Index(['name', 'run_num', 'params', 'reduction_time', 'accuracy',\n       'original_std_sum', 'original_std_mean', 'original_std_median',\n       'original_std_max', 'original_std_min', 'original_sparsity',\n       'transformed_std_sum', 'transformed_std_mean', 'transformed_std_median',\n       'transformed_std_max', 'transformed_std_min', 'transformed_sparsity',\n       'characteristics'],\n      dtype='object')"
     },
     "execution_count": 12,
     "metadata": {},
     "output_type": "execute_result"
    }
   ],
   "source": [
    "print(len(df_each))\n",
    "df_each[0][0].columns"
   ],
   "metadata": {
    "collapsed": false,
    "pycharm": {
     "name": "#%%\n"
    }
   }
  },
  {
   "cell_type": "code",
   "execution_count": 14,
   "outputs": [
    {
     "data": {
      "text/plain": "(name                           params                  \n JL transform                   {'ep': 0.05, 'de': 0.05}    0.009709618\n                                {'ep': 0.05, 'de': 0.1}     0.008342635\n                                {'ep': 0.1, 'de': 0.05}     0.008689303\n                                {'ep': 0.1, 'de': 0.1}      0.012512708\n                                {'ep': 0.5, 'de': 0.05}     0.011248207\n                                {'ep': 0.5, 'de': 0.1}      0.021972683\n                                {'ep': 0.9, 'de': 0.05}     0.007082351\n                                {'ep': 0.9, 'de': 0.1}      0.013333077\n Nothing                        {}                          0.001645217\n PCA                            {}                          0.001803286\n extremely sparse JL transform  {'ep': 0.05, 'de': 0.05}    0.018596254\n                                {'ep': 0.05, 'de': 0.1}     0.010561676\n                                {'ep': 0.1, 'de': 0.05}      0.01083787\n                                {'ep': 0.1, 'de': 0.1}      0.009029065\n                                {'ep': 0.5, 'de': 0.05}     0.009692402\n                                {'ep': 0.5, 'de': 0.1}      0.009167474\n                                {'ep': 0.9, 'de': 0.05}     0.009752416\n                                {'ep': 0.9, 'de': 0.1}      0.009350039\n sparse JL transform            {'ep': 0.05, 'de': 0.05}    0.008400172\n                                {'ep': 0.05, 'de': 0.1}      0.00763486\n                                {'ep': 0.1, 'de': 0.05}      0.00849474\n                                {'ep': 0.1, 'de': 0.1}      0.007116474\n                                {'ep': 0.5, 'de': 0.05}     0.005868106\n                                {'ep': 0.5, 'de': 0.1}      0.006640067\n                                {'ep': 0.9, 'de': 0.05}     0.009190797\n                                {'ep': 0.9, 'de': 0.1}      0.006012743\n Name: reduction_time, dtype: object,\n '2')"
     },
     "execution_count": 14,
     "metadata": {},
     "output_type": "execute_result"
    }
   ],
   "source": [
    "df_each[0][0].groupby(by=[\"name\", \"params\"])[\"reduction_time\"].min(), df_each[0][1]"
   ],
   "metadata": {
    "collapsed": false,
    "pycharm": {
     "name": "#%%\n"
    }
   }
  },
  {
   "cell_type": "code",
   "execution_count": 4,
   "outputs": [
    {
     "name": "stdout",
     "output_type": "stream",
     "text": [
      "9\n"
     ]
    }
   ],
   "source": [
    "def solution_1(n):\n",
    "    nums = [i for i in range(1, n)]\n",
    "    dp = [0 for _ in range(n + 1)]\n",
    "    dp[0] = 1\n",
    "    current_sum = 0\n",
    "    for i in range(len(nums)):\n",
    "        current_sum += nums[i]\n",
    "        mn = min(current_sum, n)\n",
    "        for j in range(mn, nums[i] - 1, -1):\n",
    "            dp[j] += dp[j - nums[i]]\n",
    "    return dp[n]\n",
    "\n",
    "print(solution_1(10))"
   ],
   "metadata": {
    "collapsed": false,
    "pycharm": {
     "name": "#%%\n"
    }
   }
  },
  {
   "cell_type": "code",
   "execution_count": 3,
   "outputs": [
    {
     "data": {
      "text/plain": "487067745"
     },
     "execution_count": 3,
     "metadata": {},
     "output_type": "execute_result"
    }
   ],
   "source": [
    "solution_1(200)"
   ],
   "metadata": {
    "collapsed": false,
    "pycharm": {
     "name": "#%%\n"
    }
   }
  },
  {
   "cell_type": "code",
   "execution_count": 11,
   "outputs": [
    {
     "data": {
      "text/plain": "[(2, 1),\n (3, 2),\n (4, 2),\n (5, 3),\n (6, 3),\n (7, 4),\n (8, 3),\n (9, 4),\n (10, 4),\n (11, 5),\n (12, 4),\n (13, 5),\n (14, 5),\n (15, 5),\n (16, 4),\n (17, 5),\n (18, 5),\n (19, 6),\n (20, 5),\n (21, 6),\n (22, 6),\n (23, 6),\n (24, 5),\n (25, 6),\n (26, 6),\n (27, 7),\n (28, 6),\n (29, 7),\n (30, 6),\n (31, 6),\n (32, 5),\n (33, 6),\n (34, 6),\n (35, 7),\n (36, 6),\n (37, 7),\n (38, 7),\n (39, 7),\n (40, 6),\n (41, 7),\n (42, 7),\n (43, 8),\n (44, 7),\n (45, 8),\n (46, 7),\n (47, 7),\n (48, 6),\n (49, 7),\n (50, 7),\n (51, 8),\n (52, 7),\n (53, 8),\n (54, 8),\n (55, 8),\n (56, 7),\n (57, 8),\n (58, 8),\n (59, 8),\n (60, 7),\n (61, 8),\n (62, 7),\n (63, 7),\n (64, 6),\n (65, 7),\n (66, 7),\n (67, 8),\n (68, 7),\n (69, 8),\n (70, 8),\n (71, 8),\n (72, 7),\n (73, 8),\n (74, 8),\n (75, 9),\n (76, 8),\n (77, 9),\n (78, 8),\n (79, 8),\n (80, 7),\n (81, 8),\n (82, 8),\n (83, 9),\n (84, 8),\n (85, 9),\n (86, 9),\n (87, 9),\n (88, 8),\n (89, 9),\n (90, 9),\n (91, 9),\n (92, 8),\n (93, 9),\n (94, 8),\n (95, 8),\n (96, 7),\n (97, 8),\n (98, 8),\n (99, 9)]"
     },
     "execution_count": 11,
     "metadata": {},
     "output_type": "execute_result"
    }
   ],
   "source": [
    "def sol_2(n):\n",
    "    cnt = 0\n",
    "    while n > 1:\n",
    "        if n == 3:\n",
    "            cnt += 2\n",
    "            break\n",
    "        elif n % 2 == 0:\n",
    "            n /= 2\n",
    "        elif n % 4 == 1:\n",
    "            n -= 1\n",
    "        else:\n",
    "            n += 1\n",
    "        cnt += 1\n",
    "    return cnt\n",
    "\n",
    "[(i, sol_2(i)) for i in range(2, 100)]"
   ],
   "metadata": {
    "collapsed": false,
    "pycharm": {
     "name": "#%%\n"
    }
   }
  },
  {
   "cell_type": "code",
   "execution_count": 20,
   "outputs": [
    {
     "data": {
      "text/plain": "40"
     },
     "execution_count": 20,
     "metadata": {},
     "output_type": "execute_result"
    }
   ],
   "source": [
    "sol_2(10000000000)"
   ],
   "metadata": {
    "collapsed": false,
    "pycharm": {
     "name": "#%%\n"
    }
   }
  },
  {
   "cell_type": "code",
   "execution_count": 23,
   "outputs": [
    {
     "data": {
      "text/plain": "40"
     },
     "execution_count": 23,
     "metadata": {},
     "output_type": "execute_result"
    }
   ],
   "source": [
    "mp = {}\n",
    "\n",
    "def minops(n, steps):\n",
    "    if n == 1: return steps\n",
    "    if n in mp: return mp[n] + steps\n",
    "    if n % 2 == 0:\n",
    "        cnt = minops(n/2, steps + 1)\n",
    "        mp[n] = cnt - steps\n",
    "        return cnt\n",
    "    cnt = min(minops(n - 1, steps + 1), minops(n + 1, steps + 1))\n",
    "    mp[n] = cnt - steps\n",
    "    return cnt\n",
    "\n",
    "minops(10000000000, 0)"
   ],
   "metadata": {
    "collapsed": false,
    "pycharm": {
     "name": "#%%\n"
    }
   }
  },
  {
   "cell_type": "code",
   "execution_count": null,
   "outputs": [],
   "source": [],
   "metadata": {
    "collapsed": false,
    "pycharm": {
     "name": "#%%\n"
    }
   }
  }
 ],
 "metadata": {
  "kernelspec": {
   "display_name": "Python 3",
   "language": "python",
   "name": "python3"
  },
  "language_info": {
   "codemirror_mode": {
    "name": "ipython",
    "version": 2
   },
   "file_extension": ".py",
   "mimetype": "text/x-python",
   "name": "python",
   "nbconvert_exporter": "python",
   "pygments_lexer": "ipython2",
   "version": "2.7.6"
  }
 },
 "nbformat": 4,
 "nbformat_minor": 0
}