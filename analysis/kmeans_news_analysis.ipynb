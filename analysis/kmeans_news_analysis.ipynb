{
 "cells": [
  {
   "cell_type": "code",
   "execution_count": 2,
   "metadata": {
    "collapsed": true,
    "pycharm": {
     "name": "#%%\n"
    },
    "ExecuteTime": {
     "end_time": "2023-07-04T07:00:38.988654Z",
     "start_time": "2023-07-04T07:00:37.757658Z"
    }
   },
   "outputs": [],
   "source": [
    "import numpy as np\n",
    "import pandas as pd\n",
    "from matplotlib import pyplot as plt\n",
    "import os"
   ]
  },
  {
   "cell_type": "code",
   "execution_count": 3,
   "outputs": [],
   "source": [
    "path = \"../output/news/\"\n",
    "df_each = []\n",
    "for filename in os.listdir(path):\n",
    "    f = os.path.join(path, filename)\n",
    "    if os.path.isfile(f):\n",
    "        temp = pd.read_csv(f)\n",
    "        temp = temp[temp.name.apply(lambda x: x != \"name\")]\n",
    "        df_each.append((temp, filename))"
   ],
   "metadata": {
    "collapsed": false,
    "pycharm": {
     "name": "#%%\n"
    },
    "ExecuteTime": {
     "end_time": "2023-07-04T07:01:00.783102Z",
     "start_time": "2023-07-04T07:01:00.770359Z"
    }
   }
  },
  {
   "cell_type": "code",
   "execution_count": 4,
   "outputs": [],
   "source": [
    "def score(reduc_time, accuracy, train_time, red_w = 200, ac_w = 1, train_w = 20):\n",
    "    return (accuracy ** ac_w)*(red_w/int(reduc_time + 1) + train_w/int(train_time + 1))"
   ],
   "metadata": {
    "collapsed": false,
    "pycharm": {
     "name": "#%%\n"
    },
    "ExecuteTime": {
     "end_time": "2023-07-04T07:01:02.549952Z",
     "start_time": "2023-07-04T07:01:02.545322Z"
    }
   }
  },
  {
   "cell_type": "code",
   "execution_count": 5,
   "outputs": [],
   "source": [
    "red_w = 10\n",
    "ac_w = 10\n",
    "train_w = 10\n",
    "included_cols = [\"name\", \"filename\", \"original_shape\", \"transformed_shape\", \"params\", \"reduction_time\", \"accuracy\", \"train_time\", \"score_series\"]"
   ],
   "metadata": {
    "collapsed": false,
    "pycharm": {
     "name": "#%%\n"
    },
    "ExecuteTime": {
     "end_time": "2023-07-04T07:01:15.191384Z",
     "start_time": "2023-07-04T07:01:15.185492Z"
    }
   }
  },
  {
   "cell_type": "code",
   "execution_count": 17,
   "outputs": [],
   "source": [
    "out_df = pd.DataFrame(columns=included_cols)\n",
    "collected_all_df = pd.DataFrame(columns=included_cols)\n",
    "for res in df_each:\n",
    "    res_copy = res[0].copy()\n",
    "    res_copy[\"filename\"] = res[1]\n",
    "    score_series = res_copy[res_copy.name != \"Nothing\"][[\"reduction_time\", \"train_time\", \"accuracy\"]].apply(lambda x: score(x[\"reduction_time\"], x[\"accuracy\"], red_w, ac_w, train_w), axis=1)\n",
    "    res_copy_score = res_copy.copy()\n",
    "    res_copy_score[\"score_series\"] = score_series\n",
    "    out_df = pd.concat([out_df, res_copy_score])\n",
    "    max_ind = res_copy_score.groupby(by=[\"original_shape\"])[\"score_series\"].idxmax()\n",
    "    collected = res_copy_score.iloc[max_ind][[\"name\", \"filename\", \"original_shape\", \"transformed_shape\", \"params\", \"reduction_time\", \"accuracy\", \"train_time\", \"score_series\"]]\n",
    "    collected_all_df = pd.concat([collected_all_df, collected])"
   ],
   "metadata": {
    "collapsed": false,
    "pycharm": {
     "name": "#%%\n"
    },
    "ExecuteTime": {
     "end_time": "2023-07-04T07:09:30.075908Z",
     "start_time": "2023-07-04T07:09:30.058426Z"
    }
   }
  },
  {
   "cell_type": "code",
   "execution_count": 21,
   "outputs": [
    {
     "data": {
      "text/plain": "                                      name  original_shape transformed_shape  \\\nfilename                                                                       \n10       0   extremely sparse JL transform  (40886, 62108)     (41896, 5359)   \n         1   extremely sparse JL transform  (40886, 62108)     (41896, 5206)   \n         2   extremely sparse JL transform  (40886, 62108)     (41896, 2679)   \n         3   extremely sparse JL transform  (40886, 62108)     (41896, 2603)   \n         4   extremely sparse JL transform  (40886, 62108)      (41896, 535)   \n...                                    ...             ...               ...   \n5        21                   JL transform  (23183, 40554)      (23688, 221)   \n         22                   JL transform  (23183, 40554)       (23688, 88)   \n         23                   JL transform  (23183, 40554)       (23688, 68)   \n         24                            PCA  (23183, 40554)      (23688, 236)   \n         25                        Nothing  (23183, 40554)    (23688, 40554)   \n\n                                                  params  reduction_time  \\\nfilename                                                                   \n10       0                      {'ep': 0.05, 'de': 0.05}       22.951098   \n         1                       {'ep': 0.05, 'de': 0.1}       23.310290   \n         2                       {'ep': 0.1, 'de': 0.05}       22.531250   \n         3                        {'ep': 0.1, 'de': 0.1}       22.674591   \n         4                       {'ep': 0.5, 'de': 0.05}       22.418684   \n...                                                  ...             ...   \n5        21                       {'ep': 0.5, 'de': 0.1}        3.134760   \n         22                      {'ep': 0.9, 'de': 0.05}        2.704862   \n         23                       {'ep': 0.9, 'de': 0.1}        2.657858   \n         24  {'n_components': 236, 'svd_solver': 'auto'}       62.303225   \n         25                                           {}        0.000032   \n\n             accuracy  train_time  score_series  \nfilename                                         \n10       0      0.408    2.352891      0.000288  \n         1      0.613    1.874792      0.016744  \n         2      0.669    1.138318      0.040459  \n         3      0.471    1.228818      0.001210  \n         4      0.947    0.686779      1.306935  \n...               ...         ...           ...  \n5        21     0.434    0.579391      0.001024  \n         22     0.286    0.537779      0.000019  \n         23     0.268    0.550330      0.000010  \n         24     0.716    0.621871      0.070003  \n         25     0.610    7.463229           NaN  \n\n[104 rows x 8 columns]",
      "text/html": "<div>\n<style scoped>\n    .dataframe tbody tr th:only-of-type {\n        vertical-align: middle;\n    }\n\n    .dataframe tbody tr th {\n        vertical-align: top;\n    }\n\n    .dataframe thead th {\n        text-align: right;\n    }\n</style>\n<table border=\"1\" class=\"dataframe\">\n  <thead>\n    <tr style=\"text-align: right;\">\n      <th></th>\n      <th></th>\n      <th>name</th>\n      <th>original_shape</th>\n      <th>transformed_shape</th>\n      <th>params</th>\n      <th>reduction_time</th>\n      <th>accuracy</th>\n      <th>train_time</th>\n      <th>score_series</th>\n    </tr>\n    <tr>\n      <th>filename</th>\n      <th></th>\n      <th></th>\n      <th></th>\n      <th></th>\n      <th></th>\n      <th></th>\n      <th></th>\n      <th></th>\n      <th></th>\n    </tr>\n  </thead>\n  <tbody>\n    <tr>\n      <th rowspan=\"5\" valign=\"top\">10</th>\n      <th>0</th>\n      <td>extremely sparse JL transform</td>\n      <td>(40886, 62108)</td>\n      <td>(41896, 5359)</td>\n      <td>{'ep': 0.05, 'de': 0.05}</td>\n      <td>22.951098</td>\n      <td>0.408</td>\n      <td>2.352891</td>\n      <td>0.000288</td>\n    </tr>\n    <tr>\n      <th>1</th>\n      <td>extremely sparse JL transform</td>\n      <td>(40886, 62108)</td>\n      <td>(41896, 5206)</td>\n      <td>{'ep': 0.05, 'de': 0.1}</td>\n      <td>23.310290</td>\n      <td>0.613</td>\n      <td>1.874792</td>\n      <td>0.016744</td>\n    </tr>\n    <tr>\n      <th>2</th>\n      <td>extremely sparse JL transform</td>\n      <td>(40886, 62108)</td>\n      <td>(41896, 2679)</td>\n      <td>{'ep': 0.1, 'de': 0.05}</td>\n      <td>22.531250</td>\n      <td>0.669</td>\n      <td>1.138318</td>\n      <td>0.040459</td>\n    </tr>\n    <tr>\n      <th>3</th>\n      <td>extremely sparse JL transform</td>\n      <td>(40886, 62108)</td>\n      <td>(41896, 2603)</td>\n      <td>{'ep': 0.1, 'de': 0.1}</td>\n      <td>22.674591</td>\n      <td>0.471</td>\n      <td>1.228818</td>\n      <td>0.001210</td>\n    </tr>\n    <tr>\n      <th>4</th>\n      <td>extremely sparse JL transform</td>\n      <td>(40886, 62108)</td>\n      <td>(41896, 535)</td>\n      <td>{'ep': 0.5, 'de': 0.05}</td>\n      <td>22.418684</td>\n      <td>0.947</td>\n      <td>0.686779</td>\n      <td>1.306935</td>\n    </tr>\n    <tr>\n      <th>...</th>\n      <th>...</th>\n      <td>...</td>\n      <td>...</td>\n      <td>...</td>\n      <td>...</td>\n      <td>...</td>\n      <td>...</td>\n      <td>...</td>\n      <td>...</td>\n    </tr>\n    <tr>\n      <th rowspan=\"5\" valign=\"top\">5</th>\n      <th>21</th>\n      <td>JL transform</td>\n      <td>(23183, 40554)</td>\n      <td>(23688, 221)</td>\n      <td>{'ep': 0.5, 'de': 0.1}</td>\n      <td>3.134760</td>\n      <td>0.434</td>\n      <td>0.579391</td>\n      <td>0.001024</td>\n    </tr>\n    <tr>\n      <th>22</th>\n      <td>JL transform</td>\n      <td>(23183, 40554)</td>\n      <td>(23688, 88)</td>\n      <td>{'ep': 0.9, 'de': 0.05}</td>\n      <td>2.704862</td>\n      <td>0.286</td>\n      <td>0.537779</td>\n      <td>0.000019</td>\n    </tr>\n    <tr>\n      <th>23</th>\n      <td>JL transform</td>\n      <td>(23183, 40554)</td>\n      <td>(23688, 68)</td>\n      <td>{'ep': 0.9, 'de': 0.1}</td>\n      <td>2.657858</td>\n      <td>0.268</td>\n      <td>0.550330</td>\n      <td>0.000010</td>\n    </tr>\n    <tr>\n      <th>24</th>\n      <td>PCA</td>\n      <td>(23183, 40554)</td>\n      <td>(23688, 236)</td>\n      <td>{'n_components': 236, 'svd_solver': 'auto'}</td>\n      <td>62.303225</td>\n      <td>0.716</td>\n      <td>0.621871</td>\n      <td>0.070003</td>\n    </tr>\n    <tr>\n      <th>25</th>\n      <td>Nothing</td>\n      <td>(23183, 40554)</td>\n      <td>(23688, 40554)</td>\n      <td>{}</td>\n      <td>0.000032</td>\n      <td>0.610</td>\n      <td>7.463229</td>\n      <td>NaN</td>\n    </tr>\n  </tbody>\n</table>\n<p>104 rows × 8 columns</p>\n</div>"
     },
     "execution_count": 21,
     "metadata": {},
     "output_type": "execute_result"
    }
   ],
   "source": [
    "all = out_df.groupby(by=\"filename\", group_keys=True).apply(lambda x: x[:])\n",
    "all[[\"name\", \"original_shape\", \"transformed_shape\", \"params\", \"reduction_time\", \"accuracy\", \"train_time\", \"score_series\"]]"
   ],
   "metadata": {
    "collapsed": false,
    "ExecuteTime": {
     "end_time": "2023-07-04T07:12:12.957058Z",
     "start_time": "2023-07-04T07:12:12.949412Z"
    }
   }
  },
  {
   "cell_type": "code",
   "execution_count": 18,
   "outputs": [
    {
     "data": {
      "text/plain": "                                        original_shape  transformed_shape  \\\nfilename name                                                               \n10       extremely sparse JL transform               1                  1   \n2        extremely sparse JL transform               1                  1   \n3        extremely sparse JL transform               1                  1   \n5        extremely sparse JL transform               1                  1   \n\n                                        params  reduction_time  accuracy  \\\nfilename name                                                              \n10       extremely sparse JL transform       1               1         1   \n2        extremely sparse JL transform       1               1         1   \n3        extremely sparse JL transform       1               1         1   \n5        extremely sparse JL transform       1               1         1   \n\n                                        train_time  score_series  \nfilename name                                                     \n10       extremely sparse JL transform           1             1  \n2        extremely sparse JL transform           1             1  \n3        extremely sparse JL transform           1             1  \n5        extremely sparse JL transform           1             1  ",
      "text/html": "<div>\n<style scoped>\n    .dataframe tbody tr th:only-of-type {\n        vertical-align: middle;\n    }\n\n    .dataframe tbody tr th {\n        vertical-align: top;\n    }\n\n    .dataframe thead th {\n        text-align: right;\n    }\n</style>\n<table border=\"1\" class=\"dataframe\">\n  <thead>\n    <tr style=\"text-align: right;\">\n      <th></th>\n      <th></th>\n      <th>original_shape</th>\n      <th>transformed_shape</th>\n      <th>params</th>\n      <th>reduction_time</th>\n      <th>accuracy</th>\n      <th>train_time</th>\n      <th>score_series</th>\n    </tr>\n    <tr>\n      <th>filename</th>\n      <th>name</th>\n      <th></th>\n      <th></th>\n      <th></th>\n      <th></th>\n      <th></th>\n      <th></th>\n      <th></th>\n    </tr>\n  </thead>\n  <tbody>\n    <tr>\n      <th>10</th>\n      <th>extremely sparse JL transform</th>\n      <td>1</td>\n      <td>1</td>\n      <td>1</td>\n      <td>1</td>\n      <td>1</td>\n      <td>1</td>\n      <td>1</td>\n    </tr>\n    <tr>\n      <th>2</th>\n      <th>extremely sparse JL transform</th>\n      <td>1</td>\n      <td>1</td>\n      <td>1</td>\n      <td>1</td>\n      <td>1</td>\n      <td>1</td>\n      <td>1</td>\n    </tr>\n    <tr>\n      <th>3</th>\n      <th>extremely sparse JL transform</th>\n      <td>1</td>\n      <td>1</td>\n      <td>1</td>\n      <td>1</td>\n      <td>1</td>\n      <td>1</td>\n      <td>1</td>\n    </tr>\n    <tr>\n      <th>5</th>\n      <th>extremely sparse JL transform</th>\n      <td>1</td>\n      <td>1</td>\n      <td>1</td>\n      <td>1</td>\n      <td>1</td>\n      <td>1</td>\n      <td>1</td>\n    </tr>\n  </tbody>\n</table>\n</div>"
     },
     "execution_count": 18,
     "metadata": {},
     "output_type": "execute_result"
    }
   ],
   "source": [
    "collected_all_df.groupby([\"filename\", \"name\"]).count().sort_values(by=\"original_shape\").groupby(level=0).tail(1).sort_values(by=\"filename\")\n"
   ],
   "metadata": {
    "collapsed": false,
    "ExecuteTime": {
     "end_time": "2023-07-04T07:09:49.722342Z",
     "start_time": "2023-07-04T07:09:49.721813Z"
    }
   }
  },
  {
   "cell_type": "code",
   "execution_count": null,
   "outputs": [],
   "source": [],
   "metadata": {
    "collapsed": false
   }
  }
 ],
 "metadata": {
  "kernelspec": {
   "display_name": "Python 3",
   "language": "python",
   "name": "python3"
  },
  "language_info": {
   "codemirror_mode": {
    "name": "ipython",
    "version": 2
   },
   "file_extension": ".py",
   "mimetype": "text/x-python",
   "name": "python",
   "nbconvert_exporter": "python",
   "pygments_lexer": "ipython2",
   "version": "2.7.6"
  }
 },
 "nbformat": 4,
 "nbformat_minor": 0
}
