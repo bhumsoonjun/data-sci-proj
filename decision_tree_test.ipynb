{
 "cells": [
  {
   "cell_type": "code",
   "execution_count": 1,
   "metadata": {
    "collapsed": true,
    "ExecuteTime": {
     "end_time": "2023-07-05T03:54:11.631453Z",
     "start_time": "2023-07-05T03:54:11.033326Z"
    }
   },
   "outputs": [],
   "source": [
    "from clusters_generator import clusters_generator\n",
    "from health_news_parser import load_health_news_for_decision_tree\n",
    "from jlt import jlt\n",
    "from jlt.jlt import *\n",
    "from pandas_template import inject_into_dataframe\n",
    "from pca_wrapper import pca_wrapper\n",
    "from performance_categorizer import *\n",
    "from decision_tree_model import *\n",
    "import pathlib"
   ]
  },
  {
   "cell_type": "code",
   "execution_count": 12,
   "outputs": [
    {
     "data": {
      "text/plain": "array(['00', '000', '0000', ..., 'zzukaz', 'zzzzz', 'zâ'], dtype=object)"
     },
     "execution_count": 12,
     "metadata": {},
     "output_type": "execute_result"
    }
   ],
   "source": [
    "num_news = 5\n",
    "data, names = load_health_news_for_decision_tree(num_news, \"data/health+news+in+twitter/Health-Tweets/\")\n",
    "names"
   ],
   "metadata": {
    "collapsed": false,
    "ExecuteTime": {
     "end_time": "2023-07-05T04:11:50.240366Z",
     "start_time": "2023-07-05T04:11:47.041244Z"
    }
   }
  },
  {
   "cell_type": "code",
   "execution_count": 13,
   "outputs": [
    {
     "data": {
      "text/plain": "array(['bbchealth', 'KaiserHealthNews', 'bbchealth', ..., 'cnnhealth',\n       'NBChealth', 'cnnhealth'], dtype='<U16')"
     },
     "execution_count": 13,
     "metadata": {},
     "output_type": "execute_result"
    }
   ],
   "source": [
    "data.training_label"
   ],
   "metadata": {
    "collapsed": false,
    "ExecuteTime": {
     "end_time": "2023-07-05T04:11:50.243336Z",
     "start_time": "2023-07-05T04:11:50.241679Z"
    }
   }
  },
  {
   "cell_type": "code",
   "execution_count": 14,
   "outputs": [
    {
     "name": "stdout",
     "output_type": "stream",
     "text": [
      "[(0.05, 0.05), (0.05, 0.1), (0.1, 0.05), (0.1, 0.1), (0.5, 0.05), (0.5, 0.1), (0.9, 0.05), (0.9, 0.1)]\n"
     ]
    }
   ],
   "source": [
    "num_test_total = 1\n",
    "num_test_each = 1\n",
    "\n",
    "settings = [\n",
    "    1\n",
    "]\n",
    "output_path = f\"output/decision_tree/{num_news}\"\n",
    "\"\"\" DIM REDUC SETTINGS \"\"\"\n",
    "eps = [0.05, 0.1, 0.5, 0.9]\n",
    "des = [0.05, 0.1]\n",
    "\n",
    "\"\"\" FUNCS \"\"\"\n",
    "\n",
    "print([(ep, de) for ep in eps for de in des])"
   ],
   "metadata": {
    "collapsed": false,
    "ExecuteTime": {
     "end_time": "2023-07-05T04:11:50.246492Z",
     "start_time": "2023-07-05T04:11:50.244535Z"
    }
   }
  },
  {
   "cell_type": "code",
   "execution_count": 15,
   "outputs": [
    {
     "name": "stdout",
     "output_type": "stream",
     "text": [
      "[jlt_ese(name='extremely sparse JL transform', params={'ep': 0.05, 'de': 0.05}), jlt_ese(name='extremely sparse JL transform', params={'ep': 0.05, 'de': 0.1}), jlt_ese(name='extremely sparse JL transform', params={'ep': 0.1, 'de': 0.05}), jlt_ese(name='extremely sparse JL transform', params={'ep': 0.1, 'de': 0.1}), jlt_ese(name='extremely sparse JL transform', params={'ep': 0.5, 'de': 0.05}), jlt_ese(name='extremely sparse JL transform', params={'ep': 0.5, 'de': 0.1}), jlt_ese(name='extremely sparse JL transform', params={'ep': 0.9, 'de': 0.05}), jlt_ese(name='extremely sparse JL transform', params={'ep': 0.9, 'de': 0.1})]\n"
     ]
    }
   ],
   "source": [
    "ese_jlt = [jlt_ese(\"extremely sparse JL transform\", ep, de, {\"ep\": ep, \"de\": de}) for ep in eps for de in des]\n",
    "random_jlt = [jlt_r(\"sparse JL transform\", ep, de, {\"ep\": ep, \"de\": de}) for ep in eps for de in des]\n",
    "n_jlt = [jlt(\"JL transform\", ep, de, {\"ep\": ep, \"de\": de}) for ep in eps for de in des]\n",
    "pca = [pca_wrapper(\"PCA\", lambda _: _,  {})]\n",
    "blank = [dim_reduc_function(\"Nothing\", lambda x: x, {})]\n",
    "funcs = ese_jlt + random_jlt + n_jlt + pca + blank\n",
    "num_test_funcs = [num_test_each for i in range(len(ese_jlt) + len(random_jlt) + len(n_jlt))] + [num_test_each] + [num_test_each]\n",
    "\n",
    "print(ese_jlt)"
   ],
   "metadata": {
    "collapsed": false,
    "ExecuteTime": {
     "end_time": "2023-07-05T04:11:50.250864Z",
     "start_time": "2023-07-05T04:11:50.249110Z"
    }
   }
  },
  {
   "cell_type": "code",
   "execution_count": 16,
   "outputs": [
    {
     "name": "stdout",
     "output_type": "stream",
     "text": [
      "========= Settings = 1 ==========\n",
      "========= Test No = 0 ==========\n",
      "[jlt_ese(name='extremely sparse JL transform', params={'ep': 0.05, 'de': 0.05}), jlt_ese(name='extremely sparse JL transform', params={'ep': 0.05, 'de': 0.1}), jlt_ese(name='extremely sparse JL transform', params={'ep': 0.1, 'de': 0.05}), jlt_ese(name='extremely sparse JL transform', params={'ep': 0.1, 'de': 0.1}), jlt_ese(name='extremely sparse JL transform', params={'ep': 0.5, 'de': 0.05}), jlt_ese(name='extremely sparse JL transform', params={'ep': 0.5, 'de': 0.1}), jlt_ese(name='extremely sparse JL transform', params={'ep': 0.9, 'de': 0.05}), jlt_ese(name='extremely sparse JL transform', params={'ep': 0.9, 'de': 0.1}), jlt_r(name='sparse JL transform', params={'ep': 0.05, 'de': 0.05}), jlt_r(name='sparse JL transform', params={'ep': 0.05, 'de': 0.1}), jlt_r(name='sparse JL transform', params={'ep': 0.1, 'de': 0.05}), jlt_r(name='sparse JL transform', params={'ep': 0.1, 'de': 0.1}), jlt_r(name='sparse JL transform', params={'ep': 0.5, 'de': 0.05}), jlt_r(name='sparse JL transform', params={'ep': 0.5, 'de': 0.1}), jlt_r(name='sparse JL transform', params={'ep': 0.9, 'de': 0.05}), jlt_r(name='sparse JL transform', params={'ep': 0.9, 'de': 0.1}), jlt(name='JL transform', params={'ep': 0.05, 'de': 0.05}), jlt(name='JL transform', params={'ep': 0.05, 'de': 0.1}), jlt(name='JL transform', params={'ep': 0.1, 'de': 0.05}), jlt(name='JL transform', params={'ep': 0.1, 'de': 0.1}), jlt(name='JL transform', params={'ep': 0.5, 'de': 0.05}), jlt(name='JL transform', params={'ep': 0.5, 'de': 0.1}), jlt(name='JL transform', params={'ep': 0.9, 'de': 0.05}), jlt(name='JL transform', params={'ep': 0.9, 'de': 0.1}), pca_wrapper(name='PCA', params={}), dim_reduc_function(name='Nothing', params={})]\n"
     ]
    }
   ],
   "source": [
    "for setting in settings:\n",
    "    print(f\"========= Settings = {setting} ==========\")\n",
    "    for i in range(num_test_total):\n",
    "        print(f\"========= Test No = {i} ==========\")\n",
    "        tree = decison_tree_model()\n",
    "        tester = performance_cat()\n",
    "        results = tester.performance_test_all(data, tree, funcs, num_test_funcs)\n",
    "        dataframe = inject_into_dataframe(results)\n",
    "        dataframe.to_csv(output_path, index=False, mode='a', header= not pathlib.Path(output_path).exists())"
   ],
   "metadata": {
    "collapsed": false,
    "ExecuteTime": {
     "end_time": "2023-07-05T04:40:59.678980Z",
     "start_time": "2023-07-05T04:11:50.275558Z"
    }
   }
  },
  {
   "cell_type": "code",
   "execution_count": 16,
   "outputs": [],
   "source": [],
   "metadata": {
    "collapsed": false,
    "ExecuteTime": {
     "end_time": "2023-07-05T04:40:59.681308Z",
     "start_time": "2023-07-05T04:40:59.681136Z"
    }
   }
  },
  {
   "cell_type": "code",
   "execution_count": 16,
   "outputs": [],
   "source": [],
   "metadata": {
    "collapsed": false,
    "ExecuteTime": {
     "end_time": "2023-07-05T04:40:59.681380Z",
     "start_time": "2023-07-05T04:40:59.681269Z"
    }
   }
  },
  {
   "cell_type": "code",
   "execution_count": null,
   "outputs": [],
   "source": [],
   "metadata": {
    "collapsed": false
   }
  }
 ],
 "metadata": {
  "kernelspec": {
   "display_name": "Python 3",
   "language": "python",
   "name": "python3"
  },
  "language_info": {
   "codemirror_mode": {
    "name": "ipython",
    "version": 2
   },
   "file_extension": ".py",
   "mimetype": "text/x-python",
   "name": "python",
   "nbconvert_exporter": "python",
   "pygments_lexer": "ipython2",
   "version": "2.7.6"
  }
 },
 "nbformat": 4,
 "nbformat_minor": 0
}
